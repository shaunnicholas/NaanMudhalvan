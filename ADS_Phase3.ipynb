{
 "cells": [
  {
   "cell_type": "markdown",
   "id": "6805b0d1",
   "metadata": {},
   "source": [
    "# Phase 1"
   ]
  },
  {
   "cell_type": "code",
   "execution_count": 1,
   "id": "14c12732",
   "metadata": {},
   "outputs": [],
   "source": [
    "import numpy as np\n",
    "import pandas as pd\n",
    "import matplotlib.pyplot as plt\n",
    "import seaborn as sns"
   ]
  },
  {
   "cell_type": "code",
   "execution_count": 3,
   "id": "fd33a0cd",
   "metadata": {},
   "outputs": [
    {
     "data": {
      "text/html": [
       "<div>\n",
       "<style scoped>\n",
       "    .dataframe tbody tr th:only-of-type {\n",
       "        vertical-align: middle;\n",
       "    }\n",
       "\n",
       "    .dataframe tbody tr th {\n",
       "        vertical-align: top;\n",
       "    }\n",
       "\n",
       "    .dataframe thead th {\n",
       "        text-align: right;\n",
       "    }\n",
       "</style>\n",
       "<table border=\"1\" class=\"dataframe\">\n",
       "  <thead>\n",
       "    <tr style=\"text-align: right;\">\n",
       "      <th></th>\n",
       "      <th>Title</th>\n",
       "      <th>Genre</th>\n",
       "      <th>Premiere</th>\n",
       "      <th>Runtime</th>\n",
       "      <th>IMDB Score</th>\n",
       "      <th>Language</th>\n",
       "    </tr>\n",
       "  </thead>\n",
       "  <tbody>\n",
       "    <tr>\n",
       "      <th>0</th>\n",
       "      <td>Enter the Anime</td>\n",
       "      <td>Documentary</td>\n",
       "      <td>August 5, 2019</td>\n",
       "      <td>58</td>\n",
       "      <td>2.5</td>\n",
       "      <td>English/Japanese</td>\n",
       "    </tr>\n",
       "    <tr>\n",
       "      <th>1</th>\n",
       "      <td>Dark Forces</td>\n",
       "      <td>Thriller</td>\n",
       "      <td>August 21, 2020</td>\n",
       "      <td>81</td>\n",
       "      <td>2.6</td>\n",
       "      <td>Spanish</td>\n",
       "    </tr>\n",
       "    <tr>\n",
       "      <th>2</th>\n",
       "      <td>The App</td>\n",
       "      <td>Science fiction/Drama</td>\n",
       "      <td>December 26, 2019</td>\n",
       "      <td>79</td>\n",
       "      <td>2.6</td>\n",
       "      <td>Italian</td>\n",
       "    </tr>\n",
       "    <tr>\n",
       "      <th>3</th>\n",
       "      <td>The Open House</td>\n",
       "      <td>Horror thriller</td>\n",
       "      <td>January 19, 2018</td>\n",
       "      <td>94</td>\n",
       "      <td>3.2</td>\n",
       "      <td>English</td>\n",
       "    </tr>\n",
       "    <tr>\n",
       "      <th>4</th>\n",
       "      <td>Kaali Khuhi</td>\n",
       "      <td>Mystery</td>\n",
       "      <td>October 30, 2020</td>\n",
       "      <td>90</td>\n",
       "      <td>3.4</td>\n",
       "      <td>Hindi</td>\n",
       "    </tr>\n",
       "    <tr>\n",
       "      <th>...</th>\n",
       "      <td>...</td>\n",
       "      <td>...</td>\n",
       "      <td>...</td>\n",
       "      <td>...</td>\n",
       "      <td>...</td>\n",
       "      <td>...</td>\n",
       "    </tr>\n",
       "    <tr>\n",
       "      <th>579</th>\n",
       "      <td>Taylor Swift: Reputation Stadium Tour</td>\n",
       "      <td>Concert Film</td>\n",
       "      <td>December 31, 2018</td>\n",
       "      <td>125</td>\n",
       "      <td>8.4</td>\n",
       "      <td>English</td>\n",
       "    </tr>\n",
       "    <tr>\n",
       "      <th>580</th>\n",
       "      <td>Winter on Fire: Ukraine's Fight for Freedom</td>\n",
       "      <td>Documentary</td>\n",
       "      <td>October 9, 2015</td>\n",
       "      <td>91</td>\n",
       "      <td>8.4</td>\n",
       "      <td>English/Ukranian/Russian</td>\n",
       "    </tr>\n",
       "    <tr>\n",
       "      <th>581</th>\n",
       "      <td>Springsteen on Broadway</td>\n",
       "      <td>One-man show</td>\n",
       "      <td>December 16, 2018</td>\n",
       "      <td>153</td>\n",
       "      <td>8.5</td>\n",
       "      <td>English</td>\n",
       "    </tr>\n",
       "    <tr>\n",
       "      <th>582</th>\n",
       "      <td>Emicida: AmarElo - It's All For Yesterday</td>\n",
       "      <td>Documentary</td>\n",
       "      <td>December 8, 2020</td>\n",
       "      <td>89</td>\n",
       "      <td>8.6</td>\n",
       "      <td>Portuguese</td>\n",
       "    </tr>\n",
       "    <tr>\n",
       "      <th>583</th>\n",
       "      <td>David Attenborough: A Life on Our Planet</td>\n",
       "      <td>Documentary</td>\n",
       "      <td>October 4, 2020</td>\n",
       "      <td>83</td>\n",
       "      <td>9.0</td>\n",
       "      <td>English</td>\n",
       "    </tr>\n",
       "  </tbody>\n",
       "</table>\n",
       "<p>584 rows × 6 columns</p>\n",
       "</div>"
      ],
      "text/plain": [
       "                                           Title                  Genre  \\\n",
       "0                                Enter the Anime            Documentary   \n",
       "1                                    Dark Forces               Thriller   \n",
       "2                                        The App  Science fiction/Drama   \n",
       "3                                 The Open House        Horror thriller   \n",
       "4                                    Kaali Khuhi                Mystery   \n",
       "..                                           ...                    ...   \n",
       "579        Taylor Swift: Reputation Stadium Tour           Concert Film   \n",
       "580  Winter on Fire: Ukraine's Fight for Freedom            Documentary   \n",
       "581                      Springsteen on Broadway           One-man show   \n",
       "582    Emicida: AmarElo - It's All For Yesterday            Documentary   \n",
       "583     David Attenborough: A Life on Our Planet            Documentary   \n",
       "\n",
       "              Premiere  Runtime  IMDB Score                  Language  \n",
       "0       August 5, 2019       58         2.5          English/Japanese  \n",
       "1      August 21, 2020       81         2.6                   Spanish  \n",
       "2    December 26, 2019       79         2.6                   Italian  \n",
       "3     January 19, 2018       94         3.2                   English  \n",
       "4     October 30, 2020       90         3.4                     Hindi  \n",
       "..                 ...      ...         ...                       ...  \n",
       "579  December 31, 2018      125         8.4                   English  \n",
       "580    October 9, 2015       91         8.4  English/Ukranian/Russian  \n",
       "581  December 16, 2018      153         8.5                   English  \n",
       "582   December 8, 2020       89         8.6                Portuguese  \n",
       "583    October 4, 2020       83         9.0                   English  \n",
       "\n",
       "[584 rows x 6 columns]"
      ]
     },
     "execution_count": 3,
     "metadata": {},
     "output_type": "execute_result"
    }
   ],
   "source": [
    "df = pd.read_csv(\"C:\\\\Users\\\\Shaun Alex\\\\Downloads\\\\archive\\\\NetflixOriginals.csv\", encoding='latin-1')\n",
    "df"
   ]
  },
  {
   "cell_type": "code",
   "execution_count": 4,
   "id": "38bdad9a",
   "metadata": {},
   "outputs": [
    {
     "data": {
      "text/plain": [
       "<bound method DataFrame.info of                                            Title                  Genre  \\\n",
       "0                                Enter the Anime            Documentary   \n",
       "1                                    Dark Forces               Thriller   \n",
       "2                                        The App  Science fiction/Drama   \n",
       "3                                 The Open House        Horror thriller   \n",
       "4                                    Kaali Khuhi                Mystery   \n",
       "..                                           ...                    ...   \n",
       "579        Taylor Swift: Reputation Stadium Tour           Concert Film   \n",
       "580  Winter on Fire: Ukraine's Fight for Freedom            Documentary   \n",
       "581                      Springsteen on Broadway           One-man show   \n",
       "582    Emicida: AmarElo - It's All For Yesterday            Documentary   \n",
       "583     David Attenborough: A Life on Our Planet            Documentary   \n",
       "\n",
       "              Premiere  Runtime  IMDB Score                  Language  \n",
       "0       August 5, 2019       58         2.5          English/Japanese  \n",
       "1      August 21, 2020       81         2.6                   Spanish  \n",
       "2    December 26, 2019       79         2.6                   Italian  \n",
       "3     January 19, 2018       94         3.2                   English  \n",
       "4     October 30, 2020       90         3.4                     Hindi  \n",
       "..                 ...      ...         ...                       ...  \n",
       "579  December 31, 2018      125         8.4                   English  \n",
       "580    October 9, 2015       91         8.4  English/Ukranian/Russian  \n",
       "581  December 16, 2018      153         8.5                   English  \n",
       "582   December 8, 2020       89         8.6                Portuguese  \n",
       "583    October 4, 2020       83         9.0                   English  \n",
       "\n",
       "[584 rows x 6 columns]>"
      ]
     },
     "execution_count": 4,
     "metadata": {},
     "output_type": "execute_result"
    }
   ],
   "source": [
    "df.info"
   ]
  },
  {
   "cell_type": "code",
   "execution_count": 5,
   "id": "4806b50a",
   "metadata": {},
   "outputs": [
    {
     "data": {
      "text/plain": [
       "<bound method NDFrame.describe of                                            Title                  Genre  \\\n",
       "0                                Enter the Anime            Documentary   \n",
       "1                                    Dark Forces               Thriller   \n",
       "2                                        The App  Science fiction/Drama   \n",
       "3                                 The Open House        Horror thriller   \n",
       "4                                    Kaali Khuhi                Mystery   \n",
       "..                                           ...                    ...   \n",
       "579        Taylor Swift: Reputation Stadium Tour           Concert Film   \n",
       "580  Winter on Fire: Ukraine's Fight for Freedom            Documentary   \n",
       "581                      Springsteen on Broadway           One-man show   \n",
       "582    Emicida: AmarElo - It's All For Yesterday            Documentary   \n",
       "583     David Attenborough: A Life on Our Planet            Documentary   \n",
       "\n",
       "              Premiere  Runtime  IMDB Score                  Language  \n",
       "0       August 5, 2019       58         2.5          English/Japanese  \n",
       "1      August 21, 2020       81         2.6                   Spanish  \n",
       "2    December 26, 2019       79         2.6                   Italian  \n",
       "3     January 19, 2018       94         3.2                   English  \n",
       "4     October 30, 2020       90         3.4                     Hindi  \n",
       "..                 ...      ...         ...                       ...  \n",
       "579  December 31, 2018      125         8.4                   English  \n",
       "580    October 9, 2015       91         8.4  English/Ukranian/Russian  \n",
       "581  December 16, 2018      153         8.5                   English  \n",
       "582   December 8, 2020       89         8.6                Portuguese  \n",
       "583    October 4, 2020       83         9.0                   English  \n",
       "\n",
       "[584 rows x 6 columns]>"
      ]
     },
     "execution_count": 5,
     "metadata": {},
     "output_type": "execute_result"
    }
   ],
   "source": [
    "df.describe"
   ]
  },
  {
   "cell_type": "code",
   "execution_count": 6,
   "id": "24ab6166",
   "metadata": {},
   "outputs": [
    {
     "data": {
      "text/html": [
       "<div>\n",
       "<style scoped>\n",
       "    .dataframe tbody tr th:only-of-type {\n",
       "        vertical-align: middle;\n",
       "    }\n",
       "\n",
       "    .dataframe tbody tr th {\n",
       "        vertical-align: top;\n",
       "    }\n",
       "\n",
       "    .dataframe thead th {\n",
       "        text-align: right;\n",
       "    }\n",
       "</style>\n",
       "<table border=\"1\" class=\"dataframe\">\n",
       "  <thead>\n",
       "    <tr style=\"text-align: right;\">\n",
       "      <th></th>\n",
       "      <th>Title</th>\n",
       "      <th>Genre</th>\n",
       "      <th>Premiere</th>\n",
       "      <th>Runtime</th>\n",
       "      <th>IMDBScore</th>\n",
       "      <th>Language</th>\n",
       "    </tr>\n",
       "  </thead>\n",
       "  <tbody>\n",
       "    <tr>\n",
       "      <th>0</th>\n",
       "      <td>Enter the Anime</td>\n",
       "      <td>Documentary</td>\n",
       "      <td>August 5, 2019</td>\n",
       "      <td>58</td>\n",
       "      <td>2.5</td>\n",
       "      <td>English/Japanese</td>\n",
       "    </tr>\n",
       "    <tr>\n",
       "      <th>1</th>\n",
       "      <td>Dark Forces</td>\n",
       "      <td>Thriller</td>\n",
       "      <td>August 21, 2020</td>\n",
       "      <td>81</td>\n",
       "      <td>2.6</td>\n",
       "      <td>Spanish</td>\n",
       "    </tr>\n",
       "    <tr>\n",
       "      <th>2</th>\n",
       "      <td>The App</td>\n",
       "      <td>Science fiction/Drama</td>\n",
       "      <td>December 26, 2019</td>\n",
       "      <td>79</td>\n",
       "      <td>2.6</td>\n",
       "      <td>Italian</td>\n",
       "    </tr>\n",
       "    <tr>\n",
       "      <th>3</th>\n",
       "      <td>The Open House</td>\n",
       "      <td>Horror thriller</td>\n",
       "      <td>January 19, 2018</td>\n",
       "      <td>94</td>\n",
       "      <td>3.2</td>\n",
       "      <td>English</td>\n",
       "    </tr>\n",
       "    <tr>\n",
       "      <th>4</th>\n",
       "      <td>Kaali Khuhi</td>\n",
       "      <td>Mystery</td>\n",
       "      <td>October 30, 2020</td>\n",
       "      <td>90</td>\n",
       "      <td>3.4</td>\n",
       "      <td>Hindi</td>\n",
       "    </tr>\n",
       "    <tr>\n",
       "      <th>...</th>\n",
       "      <td>...</td>\n",
       "      <td>...</td>\n",
       "      <td>...</td>\n",
       "      <td>...</td>\n",
       "      <td>...</td>\n",
       "      <td>...</td>\n",
       "    </tr>\n",
       "    <tr>\n",
       "      <th>579</th>\n",
       "      <td>Taylor Swift: Reputation Stadium Tour</td>\n",
       "      <td>Concert Film</td>\n",
       "      <td>December 31, 2018</td>\n",
       "      <td>125</td>\n",
       "      <td>8.4</td>\n",
       "      <td>English</td>\n",
       "    </tr>\n",
       "    <tr>\n",
       "      <th>580</th>\n",
       "      <td>Winter on Fire: Ukraine's Fight for Freedom</td>\n",
       "      <td>Documentary</td>\n",
       "      <td>October 9, 2015</td>\n",
       "      <td>91</td>\n",
       "      <td>8.4</td>\n",
       "      <td>English/Ukranian/Russian</td>\n",
       "    </tr>\n",
       "    <tr>\n",
       "      <th>581</th>\n",
       "      <td>Springsteen on Broadway</td>\n",
       "      <td>One-man show</td>\n",
       "      <td>December 16, 2018</td>\n",
       "      <td>153</td>\n",
       "      <td>8.5</td>\n",
       "      <td>English</td>\n",
       "    </tr>\n",
       "    <tr>\n",
       "      <th>582</th>\n",
       "      <td>Emicida: AmarElo - It's All For Yesterday</td>\n",
       "      <td>Documentary</td>\n",
       "      <td>December 8, 2020</td>\n",
       "      <td>89</td>\n",
       "      <td>8.6</td>\n",
       "      <td>Portuguese</td>\n",
       "    </tr>\n",
       "    <tr>\n",
       "      <th>583</th>\n",
       "      <td>David Attenborough: A Life on Our Planet</td>\n",
       "      <td>Documentary</td>\n",
       "      <td>October 4, 2020</td>\n",
       "      <td>83</td>\n",
       "      <td>9.0</td>\n",
       "      <td>English</td>\n",
       "    </tr>\n",
       "  </tbody>\n",
       "</table>\n",
       "<p>584 rows × 6 columns</p>\n",
       "</div>"
      ],
      "text/plain": [
       "                                           Title                  Genre  \\\n",
       "0                                Enter the Anime            Documentary   \n",
       "1                                    Dark Forces               Thriller   \n",
       "2                                        The App  Science fiction/Drama   \n",
       "3                                 The Open House        Horror thriller   \n",
       "4                                    Kaali Khuhi                Mystery   \n",
       "..                                           ...                    ...   \n",
       "579        Taylor Swift: Reputation Stadium Tour           Concert Film   \n",
       "580  Winter on Fire: Ukraine's Fight for Freedom            Documentary   \n",
       "581                      Springsteen on Broadway           One-man show   \n",
       "582    Emicida: AmarElo - It's All For Yesterday            Documentary   \n",
       "583     David Attenborough: A Life on Our Planet            Documentary   \n",
       "\n",
       "              Premiere  Runtime  IMDBScore                  Language  \n",
       "0       August 5, 2019       58        2.5          English/Japanese  \n",
       "1      August 21, 2020       81        2.6                   Spanish  \n",
       "2    December 26, 2019       79        2.6                   Italian  \n",
       "3     January 19, 2018       94        3.2                   English  \n",
       "4     October 30, 2020       90        3.4                     Hindi  \n",
       "..                 ...      ...        ...                       ...  \n",
       "579  December 31, 2018      125        8.4                   English  \n",
       "580    October 9, 2015       91        8.4  English/Ukranian/Russian  \n",
       "581  December 16, 2018      153        8.5                   English  \n",
       "582   December 8, 2020       89        8.6                Portuguese  \n",
       "583    October 4, 2020       83        9.0                   English  \n",
       "\n",
       "[584 rows x 6 columns]"
      ]
     },
     "execution_count": 6,
     "metadata": {},
     "output_type": "execute_result"
    }
   ],
   "source": [
    "df.rename(columns = {'IMDB Score':'IMDBScore'}, inplace = True)\n",
    "df"
   ]
  },
  {
   "cell_type": "code",
   "execution_count": 7,
   "id": "673e072e",
   "metadata": {},
   "outputs": [
    {
     "data": {
      "text/plain": [
       "Title        0\n",
       "Genre        0\n",
       "Premiere     0\n",
       "Runtime      0\n",
       "IMDBScore    0\n",
       "Language     0\n",
       "dtype: int64"
      ]
     },
     "execution_count": 7,
     "metadata": {},
     "output_type": "execute_result"
    }
   ],
   "source": [
    "df.isnull().sum()"
   ]
  },
  {
   "cell_type": "code",
   "execution_count": 8,
   "id": "5af10970",
   "metadata": {},
   "outputs": [
    {
     "data": {
      "text/plain": [
       "Index(['Title', 'Genre', 'Premiere', 'Runtime', 'IMDBScore', 'Language'], dtype='object')"
      ]
     },
     "execution_count": 8,
     "metadata": {},
     "output_type": "execute_result"
    }
   ],
   "source": [
    "df.columns"
   ]
  },
  {
   "cell_type": "code",
   "execution_count": 9,
   "id": "d7f22c49",
   "metadata": {},
   "outputs": [
    {
     "data": {
      "text/plain": [
       "English       401\n",
       "Hindi          33\n",
       "Spanish        31\n",
       "French         20\n",
       "Italian        14\n",
       "Portuguese     12\n",
       "Indonesian      9\n",
       "Korean          6\n",
       "Japanese        6\n",
       "German          5\n",
       "Name: Language, dtype: int64"
      ]
     },
     "execution_count": 9,
     "metadata": {},
     "output_type": "execute_result"
    }
   ],
   "source": [
    "language=df['Language'].value_counts().sort_values(ascending=False)\n",
    "language=language[:10]\n",
    "language"
   ]
  },
  {
   "cell_type": "code",
   "execution_count": 10,
   "id": "68236f79",
   "metadata": {},
   "outputs": [
    {
     "data": {
      "text/plain": [
       "Documentary        159\n",
       "Drama               77\n",
       "Comedy              49\n",
       "Romantic comedy     39\n",
       "Thriller            33\n",
       "Comedy-drama        14\n",
       "Crime drama         11\n",
       "Biopic               9\n",
       "Horror               9\n",
       "Action               7\n",
       "Name: Genre, dtype: int64"
      ]
     },
     "execution_count": 10,
     "metadata": {},
     "output_type": "execute_result"
    }
   ],
   "source": [
    "Genre=df[\"Genre\"].value_counts().sort_values(ascending=False)\n",
    "Genre=Genre[:10]\n",
    "Genre"
   ]
  },
  {
   "cell_type": "code",
   "execution_count": 11,
   "id": "2a0013dd",
   "metadata": {},
   "outputs": [
    {
     "data": {
      "text/plain": [
       "Text(0.5, 1.0, 'Language vs Genre')"
      ]
     },
     "execution_count": 11,
     "metadata": {},
     "output_type": "execute_result"
    },
    {
     "data": {
      "image/png": "[encoded data removed]",
      "text/plain": [
       "<Figure size 432x288 with 1 Axes>"
      ]
     },
     "metadata": {
      "needs_background": "light"
     },
     "output_type": "display_data"
    }
   ],
   "source": [
    "plt.plot(language,Genre)\n",
    "plt.xlabel(\"Langauge Count\")\n",
    "plt.ylabel(\"Genre Count\")\n",
    "plt.title(\"Language vs Genre\")"
   ]
  },
  {
   "cell_type": "code",
   "execution_count": 12,
   "id": "60bbd5cd",
   "metadata": {},
   "outputs": [
    {
     "data": {
      "text/html": [
       "<div>\n",
       "<style scoped>\n",
       "    .dataframe tbody tr th:only-of-type {\n",
       "        vertical-align: middle;\n",
       "    }\n",
       "\n",
       "    .dataframe tbody tr th {\n",
       "        vertical-align: top;\n",
       "    }\n",
       "\n",
       "    .dataframe thead th {\n",
       "        text-align: right;\n",
       "    }\n",
       "</style>\n",
       "<table border=\"1\" class=\"dataframe\">\n",
       "  <thead>\n",
       "    <tr style=\"text-align: right;\">\n",
       "      <th></th>\n",
       "      <th>IMDBScore</th>\n",
       "      <th>Runtime</th>\n",
       "    </tr>\n",
       "  </thead>\n",
       "  <tbody>\n",
       "    <tr>\n",
       "      <th>IMDBScore</th>\n",
       "      <td>1.00000</td>\n",
       "      <td>0.40416</td>\n",
       "    </tr>\n",
       "    <tr>\n",
       "      <th>Runtime</th>\n",
       "      <td>0.40416</td>\n",
       "      <td>1.00000</td>\n",
       "    </tr>\n",
       "  </tbody>\n",
       "</table>\n",
       "</div>"
      ],
      "text/plain": [
       "           IMDBScore  Runtime\n",
       "IMDBScore    1.00000  0.40416\n",
       "Runtime      0.40416  1.00000"
      ]
     },
     "execution_count": 12,
     "metadata": {},
     "output_type": "execute_result"
    }
   ],
   "source": [
    "cols=[\"IMDBScore\",\"Runtime\"]\n",
    "x=df[cols].head(12)\n",
    "\n",
    "x.corr()"
   ]
  },
  {
   "cell_type": "code",
   "execution_count": 13,
   "id": "7e2b0e03",
   "metadata": {},
   "outputs": [
    {
     "data": {
      "text/plain": [
       "<AxesSubplot:>"
      ]
     },
     "execution_count": 13,
     "metadata": {},
     "output_type": "execute_result"
    },
    {
     "data": {
      "image/png": "[encoded data removed]",
      "text/plain": [
       "<Figure size 864x648 with 2 Axes>"
      ]
     },
     "metadata": {
      "needs_background": "light"
     },
     "output_type": "display_data"
    }
   ],
   "source": [
    "plt.figure(figsize=(12,9))\n",
    "sns.heatmap(x,annot=True)"
   ]
  },
  {
   "cell_type": "code",
   "execution_count": 14,
   "id": "6c4ee5fd",
   "metadata": {
    "scrolled": false
   },
   "outputs": [
    {
     "data": {
      "image/png": "[encoded data removed]",
      "text/plain": [
       "<Figure size 432x288 with 1 Axes>"
      ]
     },
     "metadata": {
      "needs_background": "light"
     },
     "output_type": "display_data"
    }
   ],
   "source": [
    "score=df[\"IMDBScore\"].sort_values(ascending=False)[:10]\n",
    "score.plot.barh()\n",
    "plt.show()"
   ]
  },
  {
   "cell_type": "code",
   "execution_count": 15,
   "id": "08a4d6b9",
   "metadata": {},
   "outputs": [
    {
     "data": {
      "text/plain": [
       "<Figure size 2160x2160 with 0 Axes>"
      ]
     },
     "execution_count": 15,
     "metadata": {},
     "output_type": "execute_result"
    },
    {
     "data": {
      "image/png": "[encoded data removed]",
      "text/plain": [
       "<Figure size 432x288 with 1 Axes>"
      ]
     },
     "metadata": {
      "needs_background": "light"
     },
     "output_type": "display_data"
    },
    {
     "data": {
      "text/plain": [
       "<Figure size 2160x2160 with 0 Axes>"
      ]
     },
     "metadata": {},
     "output_type": "display_data"
    }
   ],
   "source": [
    "plt.scatter(df[\"IMDBScore\"][:25],df[\"Title\"][:25])\n",
    "plt.figure(figsize=(30,30))\n"
   ]
  },
  {
   "cell_type": "code",
   "execution_count": 16,
   "id": "3d7b5dd3",
   "metadata": {
    "scrolled": false
   },
   "outputs": [
    {
     "data": {
      "text/html": [
       "<div>\n",
       "<style scoped>\n",
       "    .dataframe tbody tr th:only-of-type {\n",
       "        vertical-align: middle;\n",
       "    }\n",
       "\n",
       "    .dataframe tbody tr th {\n",
       "        vertical-align: top;\n",
       "    }\n",
       "\n",
       "    .dataframe thead th {\n",
       "        text-align: right;\n",
       "    }\n",
       "</style>\n",
       "<table border=\"1\" class=\"dataframe\">\n",
       "  <thead>\n",
       "    <tr style=\"text-align: right;\">\n",
       "      <th></th>\n",
       "      <th>Title</th>\n",
       "      <th>Genre</th>\n",
       "      <th>Premiere</th>\n",
       "      <th>Runtime</th>\n",
       "      <th>IMDBScore</th>\n",
       "      <th>Language</th>\n",
       "    </tr>\n",
       "  </thead>\n",
       "  <tbody>\n",
       "    <tr>\n",
       "      <th>0</th>\n",
       "      <td>147</td>\n",
       "      <td>45</td>\n",
       "      <td>August 5, 2019</td>\n",
       "      <td>58</td>\n",
       "      <td>2.5</td>\n",
       "      <td>English/Japanese</td>\n",
       "    </tr>\n",
       "    <tr>\n",
       "      <th>1</th>\n",
       "      <td>120</td>\n",
       "      <td>106</td>\n",
       "      <td>August 21, 2020</td>\n",
       "      <td>81</td>\n",
       "      <td>2.6</td>\n",
       "      <td>Spanish</td>\n",
       "    </tr>\n",
       "    <tr>\n",
       "      <th>2</th>\n",
       "      <td>433</td>\n",
       "      <td>93</td>\n",
       "      <td>December 26, 2019</td>\n",
       "      <td>79</td>\n",
       "      <td>2.6</td>\n",
       "      <td>Italian</td>\n",
       "    </tr>\n",
       "    <tr>\n",
       "      <th>3</th>\n",
       "      <td>500</td>\n",
       "      <td>63</td>\n",
       "      <td>January 19, 2018</td>\n",
       "      <td>94</td>\n",
       "      <td>3.2</td>\n",
       "      <td>English</td>\n",
       "    </tr>\n",
       "    <tr>\n",
       "      <th>4</th>\n",
       "      <td>243</td>\n",
       "      <td>73</td>\n",
       "      <td>October 30, 2020</td>\n",
       "      <td>90</td>\n",
       "      <td>3.4</td>\n",
       "      <td>Hindi</td>\n",
       "    </tr>\n",
       "    <tr>\n",
       "      <th>...</th>\n",
       "      <td>...</td>\n",
       "      <td>...</td>\n",
       "      <td>...</td>\n",
       "      <td>...</td>\n",
       "      <td>...</td>\n",
       "      <td>...</td>\n",
       "    </tr>\n",
       "    <tr>\n",
       "      <th>579</th>\n",
       "      <td>425</td>\n",
       "      <td>40</td>\n",
       "      <td>December 31, 2018</td>\n",
       "      <td>125</td>\n",
       "      <td>8.4</td>\n",
       "      <td>English</td>\n",
       "    </tr>\n",
       "    <tr>\n",
       "      <th>580</th>\n",
       "      <td>575</td>\n",
       "      <td>45</td>\n",
       "      <td>October 9, 2015</td>\n",
       "      <td>91</td>\n",
       "      <td>8.4</td>\n",
       "      <td>English/Ukranian/Russian</td>\n",
       "    </tr>\n",
       "    <tr>\n",
       "      <th>581</th>\n",
       "      <td>410</td>\n",
       "      <td>74</td>\n",
       "      <td>December 16, 2018</td>\n",
       "      <td>153</td>\n",
       "      <td>8.5</td>\n",
       "      <td>English</td>\n",
       "    </tr>\n",
       "    <tr>\n",
       "      <th>582</th>\n",
       "      <td>145</td>\n",
       "      <td>45</td>\n",
       "      <td>December 8, 2020</td>\n",
       "      <td>89</td>\n",
       "      <td>8.6</td>\n",
       "      <td>Portuguese</td>\n",
       "    </tr>\n",
       "    <tr>\n",
       "      <th>583</th>\n",
       "      <td>121</td>\n",
       "      <td>45</td>\n",
       "      <td>October 4, 2020</td>\n",
       "      <td>83</td>\n",
       "      <td>9.0</td>\n",
       "      <td>English</td>\n",
       "    </tr>\n",
       "  </tbody>\n",
       "</table>\n",
       "<p>584 rows × 6 columns</p>\n",
       "</div>"
      ],
      "text/plain": [
       "     Title  Genre           Premiere  Runtime  IMDBScore  \\\n",
       "0      147     45     August 5, 2019       58        2.5   \n",
       "1      120    106    August 21, 2020       81        2.6   \n",
       "2      433     93  December 26, 2019       79        2.6   \n",
       "3      500     63   January 19, 2018       94        3.2   \n",
       "4      243     73   October 30, 2020       90        3.4   \n",
       "..     ...    ...                ...      ...        ...   \n",
       "579    425     40  December 31, 2018      125        8.4   \n",
       "580    575     45    October 9, 2015       91        8.4   \n",
       "581    410     74  December 16, 2018      153        8.5   \n",
       "582    145     45   December 8, 2020       89        8.6   \n",
       "583    121     45    October 4, 2020       83        9.0   \n",
       "\n",
       "                     Language  \n",
       "0            English/Japanese  \n",
       "1                     Spanish  \n",
       "2                     Italian  \n",
       "3                     English  \n",
       "4                       Hindi  \n",
       "..                        ...  \n",
       "579                   English  \n",
       "580  English/Ukranian/Russian  \n",
       "581                   English  \n",
       "582                Portuguese  \n",
       "583                   English  \n",
       "\n",
       "[584 rows x 6 columns]"
      ]
     },
     "execution_count": 16,
     "metadata": {},
     "output_type": "execute_result"
    }
   ],
   "source": [
    "from sklearn.preprocessing import LabelEncoder\n",
    "object_cols = [\"Title\",\"Genre\"]\n",
    "label_encoder = LabelEncoder()\n",
    "df2=df.copy()\n",
    "for col in object_cols:\n",
    "    label_encoder.fit(df2[col])\n",
    "    df2[col] = label_encoder.transform(df2[col])\n",
    "df2"
   ]
  },
  {
   "cell_type": "code",
   "execution_count": 17,
   "id": "5953a2f0",
   "metadata": {},
   "outputs": [],
   "source": [
    "df2.drop([\"Premiere\"],axis=1,inplace=True)\n"
   ]
  },
  {
   "cell_type": "code",
   "execution_count": 18,
   "id": "a5560dd1",
   "metadata": {},
   "outputs": [],
   "source": [
    "df2.drop([\"Language\"],axis=1,inplace=True)\n"
   ]
  },
  {
   "cell_type": "code",
   "execution_count": 19,
   "id": "d408c3b7",
   "metadata": {},
   "outputs": [
    {
     "data": {
      "text/html": [
       "<div>\n",
       "<style scoped>\n",
       "    .dataframe tbody tr th:only-of-type {\n",
       "        vertical-align: middle;\n",
       "    }\n",
       "\n",
       "    .dataframe tbody tr th {\n",
       "        vertical-align: top;\n",
       "    }\n",
       "\n",
       "    .dataframe thead th {\n",
       "        text-align: right;\n",
       "    }\n",
       "</style>\n",
       "<table border=\"1\" class=\"dataframe\">\n",
       "  <thead>\n",
       "    <tr style=\"text-align: right;\">\n",
       "      <th></th>\n",
       "      <th>Title</th>\n",
       "      <th>Genre</th>\n",
       "      <th>Runtime</th>\n",
       "    </tr>\n",
       "  </thead>\n",
       "  <tbody>\n",
       "    <tr>\n",
       "      <th>0</th>\n",
       "      <td>147</td>\n",
       "      <td>45</td>\n",
       "      <td>58</td>\n",
       "    </tr>\n",
       "    <tr>\n",
       "      <th>1</th>\n",
       "      <td>120</td>\n",
       "      <td>106</td>\n",
       "      <td>81</td>\n",
       "    </tr>\n",
       "    <tr>\n",
       "      <th>2</th>\n",
       "      <td>433</td>\n",
       "      <td>93</td>\n",
       "      <td>79</td>\n",
       "    </tr>\n",
       "    <tr>\n",
       "      <th>3</th>\n",
       "      <td>500</td>\n",
       "      <td>63</td>\n",
       "      <td>94</td>\n",
       "    </tr>\n",
       "    <tr>\n",
       "      <th>4</th>\n",
       "      <td>243</td>\n",
       "      <td>73</td>\n",
       "      <td>90</td>\n",
       "    </tr>\n",
       "    <tr>\n",
       "      <th>...</th>\n",
       "      <td>...</td>\n",
       "      <td>...</td>\n",
       "      <td>...</td>\n",
       "    </tr>\n",
       "    <tr>\n",
       "      <th>579</th>\n",
       "      <td>425</td>\n",
       "      <td>40</td>\n",
       "      <td>125</td>\n",
       "    </tr>\n",
       "    <tr>\n",
       "      <th>580</th>\n",
       "      <td>575</td>\n",
       "      <td>45</td>\n",
       "      <td>91</td>\n",
       "    </tr>\n",
       "    <tr>\n",
       "      <th>581</th>\n",
       "      <td>410</td>\n",
       "      <td>74</td>\n",
       "      <td>153</td>\n",
       "    </tr>\n",
       "    <tr>\n",
       "      <th>582</th>\n",
       "      <td>145</td>\n",
       "      <td>45</td>\n",
       "      <td>89</td>\n",
       "    </tr>\n",
       "    <tr>\n",
       "      <th>583</th>\n",
       "      <td>121</td>\n",
       "      <td>45</td>\n",
       "      <td>83</td>\n",
       "    </tr>\n",
       "  </tbody>\n",
       "</table>\n",
       "<p>584 rows × 3 columns</p>\n",
       "</div>"
      ],
      "text/plain": [
       "     Title  Genre  Runtime\n",
       "0      147     45       58\n",
       "1      120    106       81\n",
       "2      433     93       79\n",
       "3      500     63       94\n",
       "4      243     73       90\n",
       "..     ...    ...      ...\n",
       "579    425     40      125\n",
       "580    575     45       91\n",
       "581    410     74      153\n",
       "582    145     45       89\n",
       "583    121     45       83\n",
       "\n",
       "[584 rows x 3 columns]"
      ]
     },
     "execution_count": 19,
     "metadata": {},
     "output_type": "execute_result"
    }
   ],
   "source": [
    "df2.drop([\"IMDBScore\"],axis=1,inplace=True)\n",
    "\n",
    "df2\n"
   ]
  },
  {
   "cell_type": "code",
   "execution_count": 20,
   "id": "ed1baeb1",
   "metadata": {},
   "outputs": [
    {
     "data": {
      "text/plain": [
       "0      2.5\n",
       "1      2.6\n",
       "2      2.6\n",
       "3      3.2\n",
       "4      3.4\n",
       "      ... \n",
       "579    8.4\n",
       "580    8.4\n",
       "581    8.5\n",
       "582    8.6\n",
       "583    9.0\n",
       "Name: IMDBScore, Length: 584, dtype: float64"
      ]
     },
     "execution_count": 20,
     "metadata": {},
     "output_type": "execute_result"
    }
   ],
   "source": [
    "y=df[\"IMDBScore\"]\n",
    "y"
   ]
  },
  {
   "cell_type": "code",
   "execution_count": 21,
   "id": "ea932fd8",
   "metadata": {},
   "outputs": [],
   "source": [
    "from sklearn.model_selection import train_test_split\n",
    "from sklearn.linear_model import LinearRegression\n"
   ]
  },
  {
   "cell_type": "code",
   "execution_count": 22,
   "id": "a9584ae7",
   "metadata": {},
   "outputs": [],
   "source": [
    "xtrain,xtest,ytrain,ytest=train_test_split(df2,y,test_size=0.2,random_state=42)"
   ]
  },
  {
   "cell_type": "code",
   "execution_count": 23,
   "id": "aa3724df",
   "metadata": {},
   "outputs": [
    {
     "name": "stdout",
     "output_type": "stream",
     "text": [
      "(467, 3) (467,)\n"
     ]
    }
   ],
   "source": [
    "print(xtrain.shape,ytrain.shape)"
   ]
  },
  {
   "cell_type": "code",
   "execution_count": 24,
   "id": "a3da9cc3",
   "metadata": {},
   "outputs": [
    {
     "name": "stdout",
     "output_type": "stream",
     "text": [
      "(117, 3) (117,)\n"
     ]
    }
   ],
   "source": [
    "print(xtest.shape,ytest.shape)"
   ]
  },
  {
   "cell_type": "code",
   "execution_count": 25,
   "id": "6573b424",
   "metadata": {},
   "outputs": [],
   "source": [
    "lr=LinearRegression()"
   ]
  },
  {
   "cell_type": "code",
   "execution_count": 26,
   "id": "bee780c0",
   "metadata": {},
   "outputs": [
    {
     "data": {
      "text/plain": [
       "LinearRegression()"
      ]
     },
     "execution_count": 26,
     "metadata": {},
     "output_type": "execute_result"
    }
   ],
   "source": [
    "lr.fit(xtrain,ytrain)"
   ]
  },
  {
   "cell_type": "code",
   "execution_count": 27,
   "id": "f614af84",
   "metadata": {},
   "outputs": [
    {
     "data": {
      "text/plain": [
       "LinearRegression()"
      ]
     },
     "execution_count": 27,
     "metadata": {},
     "output_type": "execute_result"
    }
   ],
   "source": [
    "lr.fit(xtest,ytest)"
   ]
  },
  {
   "cell_type": "code",
   "execution_count": 28,
   "id": "420b70e8",
   "metadata": {},
   "outputs": [
    {
     "data": {
      "text/plain": [
       "0.031119103871776743"
      ]
     },
     "execution_count": 28,
     "metadata": {},
     "output_type": "execute_result"
    }
   ],
   "source": [
    "lr.score(xtrain,ytrain)"
   ]
  },
  {
   "cell_type": "code",
   "execution_count": 29,
   "id": "6ca4c18b",
   "metadata": {},
   "outputs": [
    {
     "name": "stderr",
     "output_type": "stream",
     "text": [
      "C:\\Users\\Shaun Alex\\anaconda3\\lib\\site-packages\\sklearn\\base.py:450: UserWarning: X does not have valid feature names, but LinearRegression was fitted with feature names\n",
      "  warnings.warn(\n"
     ]
    },
    {
     "data": {
      "text/plain": [
       "array([6.3065107])"
      ]
     },
     "execution_count": 29,
     "metadata": {},
     "output_type": "execute_result"
    }
   ],
   "source": [
    "y_pred=lr.predict(xtest)\n",
    "x=[[147,45,58]]\n",
    "predict=lr.predict(x)\n",
    "predict"
   ]
  },
  {
   "cell_type": "code",
   "execution_count": 30,
   "id": "c1092d57",
   "metadata": {},
   "outputs": [
    {
     "name": "stdout",
     "output_type": "stream",
     "text": [
      "0.019033211731675936\n"
     ]
    }
   ],
   "source": [
    "print(lr.score(xtest, ytest))\n"
   ]
  },
  {
   "cell_type": "code",
   "execution_count": 31,
   "id": "723f8493",
   "metadata": {},
   "outputs": [
    {
     "data": {
      "text/html": [
       "<div>\n",
       "<style scoped>\n",
       "    .dataframe tbody tr th:only-of-type {\n",
       "        vertical-align: middle;\n",
       "    }\n",
       "\n",
       "    .dataframe tbody tr th {\n",
       "        vertical-align: top;\n",
       "    }\n",
       "\n",
       "    .dataframe thead th {\n",
       "        text-align: right;\n",
       "    }\n",
       "</style>\n",
       "<table border=\"1\" class=\"dataframe\">\n",
       "  <thead>\n",
       "    <tr style=\"text-align: right;\">\n",
       "      <th></th>\n",
       "      <th>Title</th>\n",
       "      <th>Genre</th>\n",
       "      <th>Premiere</th>\n",
       "      <th>Runtime</th>\n",
       "      <th>IMDBScore</th>\n",
       "      <th>Language</th>\n",
       "    </tr>\n",
       "  </thead>\n",
       "  <tbody>\n",
       "    <tr>\n",
       "      <th>0</th>\n",
       "      <td>Enter the Anime</td>\n",
       "      <td>Documentary</td>\n",
       "      <td>August 5, 2019</td>\n",
       "      <td>58</td>\n",
       "      <td>2.5</td>\n",
       "      <td>English/Japanese</td>\n",
       "    </tr>\n",
       "  </tbody>\n",
       "</table>\n",
       "</div>"
      ],
      "text/plain": [
       "             Title        Genre        Premiere  Runtime  IMDBScore  \\\n",
       "0  Enter the Anime  Documentary  August 5, 2019       58        2.5   \n",
       "\n",
       "           Language  \n",
       "0  English/Japanese  "
      ]
     },
     "execution_count": 31,
     "metadata": {},
     "output_type": "execute_result"
    }
   ],
   "source": [
    "# Assuming df2 is your first DataFrame and df is your second DataFrame\n",
    "\n",
    "# Filter rows in df2 where 'Title' is equal to 147\n",
    "filtered_rows_df2 = df2[df2['Title'] == 147]\n",
    "\n",
    "# Get the indices of the filtered rows\n",
    "indices = filtered_rows_df2.index\n",
    "\n",
    "# Use the indices to access the corresponding rows in df\n",
    "resulting_rows_df = df.loc[indices]\n",
    "\n",
    "# Now, resulting_rows_df contains the rows from df where 'Title' is equal to 147 in df2\n",
    "resulting_rows_df\n"
   ]
  },
  {
   "cell_type": "code",
   "execution_count": 32,
   "id": "46b706f2",
   "metadata": {},
   "outputs": [
    {
     "data": {
      "text/plain": [
       "RandomForestRegressor(random_state=0)"
      ]
     },
     "execution_count": 32,
     "metadata": {},
     "output_type": "execute_result"
    }
   ],
   "source": [
    "from sklearn.ensemble import RandomForestRegressor\n",
    " \n",
    "# create regressor object\n",
    "regressor = RandomForestRegressor(n_estimators=100,\n",
    "                                  random_state=0)\n",
    " \n",
    "# fit the regressor with x and y data\n",
    "regressor.fit(df2, y)"
   ]
  },
  {
   "cell_type": "code",
   "execution_count": 33,
   "id": "47f465d8",
   "metadata": {},
   "outputs": [],
   "source": [
    "Y_pred = regressor.predict(xtest)"
   ]
  },
  {
   "cell_type": "code",
   "execution_count": 34,
   "id": "3a02fb20",
   "metadata": {},
   "outputs": [
    {
     "name": "stdout",
     "output_type": "stream",
     "text": [
      "0.8844757926660178\n"
     ]
    }
   ],
   "source": [
    "print(regressor.score(xtest, ytest))\n"
   ]
  },
  {
   "cell_type": "code",
   "execution_count": 35,
   "id": "650a1f05",
   "metadata": {},
   "outputs": [
    {
     "name": "stdout",
     "output_type": "stream",
     "text": [
      "0.8848317625613643\n"
     ]
    }
   ],
   "source": [
    "print(regressor.score(xtrain, ytrain))"
   ]
  },
  {
   "cell_type": "code",
   "execution_count": 36,
   "id": "99e5c0a5",
   "metadata": {},
   "outputs": [
    {
     "name": "stderr",
     "output_type": "stream",
     "text": [
      "C:\\Users\\Shaun Alex\\anaconda3\\lib\\site-packages\\sklearn\\base.py:450: UserWarning: X does not have valid feature names, but RandomForestRegressor was fitted with feature names\n",
      "  warnings.warn(\n"
     ]
    },
    {
     "data": {
      "text/plain": [
       "array([3.752])"
      ]
     },
     "execution_count": 36,
     "metadata": {},
     "output_type": "execute_result"
    }
   ],
   "source": [
    "x=[[147,45,58]]\n",
    "predict=regressor.predict(x)\n",
    "predict"
   ]
  },
  {
   "cell_type": "code",
   "execution_count": 37,
   "id": "d49e3dde",
   "metadata": {},
   "outputs": [],
   "source": [
    "from sklearn.metrics import accuracy_score\n",
    "\n"
   ]
  },
  {
   "cell_type": "code",
   "execution_count": 38,
   "id": "5ef5b0b8",
   "metadata": {
    "scrolled": true
   },
   "outputs": [
    {
     "name": "stdout",
     "output_type": "stream",
     "text": [
      "[[6.7]\n",
      " [6.9]\n",
      " [5.3]\n",
      " [7.1]\n",
      " [7.4]\n",
      " [6.4]\n",
      " [5.5]\n",
      " [6.2]\n",
      " [5.6]\n",
      " [6.6]\n",
      " [7.6]\n",
      " [5.2]\n",
      " [7.9]\n",
      " [5.8]\n",
      " [6.9]\n",
      " [6.1]\n",
      " [6. ]\n",
      " [5.4]\n",
      " [8.2]\n",
      " [5.8]\n",
      " [6.6]\n",
      " [6. ]\n",
      " [2.6]\n",
      " [7.7]\n",
      " [7.3]\n",
      " [5.1]\n",
      " [5. ]\n",
      " [8.4]\n",
      " [7. ]\n",
      " [4.6]\n",
      " [5.7]\n",
      " [6.9]\n",
      " [5.2]\n",
      " [6.2]\n",
      " [5.2]\n",
      " [6.4]\n",
      " [6.9]\n",
      " [6.7]\n",
      " [7.1]\n",
      " [7.6]\n",
      " [6.2]\n",
      " [6. ]\n",
      " [5.8]\n",
      " [4.1]\n",
      " [6.9]\n",
      " [6.6]\n",
      " [3.7]\n",
      " [7.2]\n",
      " [7.2]\n",
      " [7.2]\n",
      " [5.4]\n",
      " [5.8]\n",
      " [5.2]\n",
      " [5.8]\n",
      " [5.9]\n",
      " [6.1]\n",
      " [7.6]\n",
      " [6.8]\n",
      " [7.1]\n",
      " [7. ]\n",
      " [5.2]\n",
      " [6.1]\n",
      " [6.5]\n",
      " [4.6]\n",
      " [5.2]\n",
      " [6.4]\n",
      " [6.2]\n",
      " [6.9]\n",
      " [6.5]\n",
      " [4.7]\n",
      " [5.7]\n",
      " [6.5]\n",
      " [5.7]\n",
      " [5.2]\n",
      " [6.7]\n",
      " [6.8]\n",
      " [5.1]\n",
      " [5.2]\n",
      " [5.9]\n",
      " [7.6]\n",
      " [6.8]\n",
      " [4.1]\n",
      " [5.3]\n",
      " [6.6]\n",
      " [7.1]\n",
      " [5.2]\n",
      " [7.1]\n",
      " [7. ]\n",
      " [6.3]\n",
      " [6.3]\n",
      " [5.6]\n",
      " [7.4]\n",
      " [5.7]\n",
      " [5.9]\n",
      " [6.8]\n",
      " [7.3]\n",
      " [6.4]\n",
      " [4.1]\n",
      " [6.5]\n",
      " [7.4]\n",
      " [6.6]\n",
      " [8.1]\n",
      " [6.2]\n",
      " [5.3]\n",
      " [7.3]\n",
      " [8.4]\n",
      " [6.1]\n",
      " [7.6]\n",
      " [5.6]\n",
      " [5.8]\n",
      " [5.7]\n",
      " [5.5]\n",
      " [6.4]\n",
      " [7.8]\n",
      " [5.8]\n",
      " [7.7]\n",
      " [6.6]]\n",
      "[[6.27382178]\n",
      " [6.18355707]\n",
      " [6.19582461]\n",
      " [6.32318729]\n",
      " [6.33536972]\n",
      " [6.29376888]\n",
      " [6.33360645]\n",
      " [6.37218645]\n",
      " [6.11885599]\n",
      " [6.00921432]\n",
      " [6.24897547]\n",
      " [6.24424084]\n",
      " [6.22748239]\n",
      " [6.35946544]\n",
      " [6.10503651]\n",
      " [6.33838559]\n",
      " [6.25318943]\n",
      " [6.45080404]\n",
      " [6.25181246]\n",
      " [6.29173072]\n",
      " [6.28986395]\n",
      " [6.06222178]\n",
      " [6.07186379]\n",
      " [6.24934145]\n",
      " [6.31657754]\n",
      " [6.06666032]\n",
      " [6.45249395]\n",
      " [6.28071104]\n",
      " [6.49526132]\n",
      " [6.31844496]\n",
      " [6.49288171]\n",
      " [6.30421482]\n",
      " [6.3378158 ]\n",
      " [6.30095096]\n",
      " [6.28059406]\n",
      " [6.12210792]\n",
      " [6.25789353]\n",
      " [6.26977069]\n",
      " [6.49044773]\n",
      " [6.2846472 ]\n",
      " [6.19651852]\n",
      " [6.25947362]\n",
      " [6.30132684]\n",
      " [6.32546507]\n",
      " [6.28561333]\n",
      " [6.29932093]\n",
      " [6.32012243]\n",
      " [6.27256931]\n",
      " [6.28265137]\n",
      " [6.31113207]\n",
      " [6.19261174]\n",
      " [6.25849776]\n",
      " [6.36012681]\n",
      " [6.09648274]\n",
      " [6.1154243 ]\n",
      " [6.2831019 ]\n",
      " [6.29991067]\n",
      " [6.53455112]\n",
      " [6.49005291]\n",
      " [6.3094188 ]\n",
      " [6.06018752]\n",
      " [6.46288312]\n",
      " [6.33488163]\n",
      " [6.3195982 ]\n",
      " [6.34872751]\n",
      " [5.96379383]\n",
      " [6.31298399]\n",
      " [6.26927219]\n",
      " [6.2783978 ]\n",
      " [6.5223876 ]\n",
      " [6.27710832]\n",
      " [5.97393213]\n",
      " [6.3665123 ]\n",
      " [6.32516251]\n",
      " [6.2675132 ]\n",
      " [6.29464343]\n",
      " [5.95407251]\n",
      " [6.07876175]\n",
      " [6.1381545 ]\n",
      " [6.23107779]\n",
      " [6.28893245]\n",
      " [6.26693728]\n",
      " [5.96307192]\n",
      " [6.07288446]\n",
      " [6.47203193]\n",
      " [6.01255563]\n",
      " [6.27983753]\n",
      " [6.5177016 ]\n",
      " [6.26678499]\n",
      " [6.47697358]\n",
      " [6.31388244]\n",
      " [6.28844042]\n",
      " [6.51171038]\n",
      " [6.35760893]\n",
      " [6.35524585]\n",
      " [5.92471465]\n",
      " [6.05769127]\n",
      " [6.30083192]\n",
      " [6.04885355]\n",
      " [6.35645981]\n",
      " [6.32326864]\n",
      " [6.2720176 ]\n",
      " [6.35540359]\n",
      " [6.08248077]\n",
      " [6.33297099]\n",
      " [6.30542195]\n",
      " [6.3537964 ]\n",
      " [6.32050545]\n",
      " [5.99773693]\n",
      " [6.07130372]\n",
      " [6.27105608]\n",
      " [5.96658017]\n",
      " [6.11709374]\n",
      " [6.50468044]\n",
      " [6.32829845]\n",
      " [6.23605459]\n",
      " [5.99847588]]\n"
     ]
    }
   ],
   "source": [
    "import numpy as np\n",
    "\n",
    "# Assuming ytest is a Pandas Series\n",
    "ytest_array = np.array(ytest)\n",
    "reshaped_ytest = ytest_array.reshape(-1, 1)\n",
    "print(reshaped_ytest)\n",
    "\n",
    "ytpred_array = np.array(y_pred)\n",
    "reshaped_ypred = ytpred_array.reshape(-1, 1)\n",
    "print(reshaped_ypred)\n"
   ]
  },
  {
   "cell_type": "code",
   "execution_count": 39,
   "id": "4f04f605",
   "metadata": {},
   "outputs": [],
   "source": [
    "from sklearn.metrics import mean_squared_error, mean_squared_log_error,r2_score\n"
   ]
  },
  {
   "cell_type": "code",
   "execution_count": 40,
   "id": "b99f8d6b",
   "metadata": {},
   "outputs": [
    {
     "name": "stdout",
     "output_type": "stream",
     "text": [
      "1.0090520571992603 1.0181860541380592 0.019033211731675936\n"
     ]
    }
   ],
   "source": [
    "mse = mean_squared_error(ytest, y_pred)\n",
    "\n",
    "# Calculate Root Mean Squared Error (RMSE)\n",
    "rmse = np.sqrt(mse)\n",
    "r2_score=r2_score(ytest,y_pred)  # For the Linear Regression\n",
    "print(rmse,mse,r2_score)"
   ]
  },
  {
   "cell_type": "code",
   "execution_count": 41,
   "id": "8a7cff32",
   "metadata": {},
   "outputs": [
    {
     "data": {
      "text/plain": [
       "array([6, 6, 5, 6, 7, 6, 5, 5, 5, 6, 7, 5, 7, 5, 6, 6, 5, 5, 8, 6, 7, 5,\n",
       "       3, 7, 7, 5, 5, 7, 6, 4, 5, 6, 5, 6, 5, 5, 6, 7, 7, 7, 6, 6, 6, 5,\n",
       "       7, 6, 4, 6, 6, 6, 5, 6, 5, 5, 5, 6, 7, 6, 6, 6, 5, 6, 6, 5, 5, 6,\n",
       "       5, 7, 6, 5, 6, 6, 5, 5, 6, 6, 5, 5, 6, 7, 6, 4, 5, 6, 7, 5, 6, 7,\n",
       "       6, 6, 6, 7, 5, 6, 6, 6, 6, 4, 6, 7, 6, 7, 6, 5, 6, 7, 6, 6, 5, 5,\n",
       "       5, 5, 6, 7, 5, 7, 6])"
      ]
     },
     "execution_count": 41,
     "metadata": {},
     "output_type": "execute_result"
    }
   ],
   "source": [
    "Y_pred1 = Y_pred.astype(int)\n",
    "Y_pred1"
   ]
  },
  {
   "cell_type": "code",
   "execution_count": 42,
   "id": "cd5e6b3c",
   "metadata": {},
   "outputs": [
    {
     "name": "stdout",
     "output_type": "stream",
     "text": [
      "0.6717116801102846 0.45119658119658124\n"
     ]
    }
   ],
   "source": [
    "\n",
    "mse = mean_squared_error(ytest, Y_pred1)\n",
    "\n",
    "# Calculate Root Mean Squared Error (RMSE)\n",
    "rmse = np.sqrt(mse)\n",
    "print(rmse,mse)\n"
   ]
  },
  {
   "cell_type": "code",
   "execution_count": 43,
   "id": "e87dcae7",
   "metadata": {},
   "outputs": [
    {
     "data": {
      "text/plain": [
       "0.565296677031442"
      ]
     },
     "execution_count": 43,
     "metadata": {},
     "output_type": "execute_result"
    }
   ],
   "source": [
    "from sklearn.metrics import r2_score\n",
    "\n",
    "# Assuming ytest contains actual labels and Y_pred1 contains predicted labels\n",
    "r2_result = r2_score(ytest, Y_pred1)  # Calculate the R^2 score\n",
    "r2_result\n"
   ]
  },
  {
   "cell_type": "code",
   "execution_count": 44,
   "id": "7d21eb0b",
   "metadata": {},
   "outputs": [
    {
     "data": {
      "text/plain": [
       "GridSearchCV(cv=5, estimator=RandomForestRegressor(random_state=0),\n",
       "             param_grid={'max_depth': [None, 10, 20, 30],\n",
       "                         'min_samples_leaf': [1, 2, 4],\n",
       "                         'min_samples_split': [2, 5, 10],\n",
       "                         'n_estimators': [100, 200, 300]},\n",
       "             scoring='neg_mean_squared_error')"
      ]
     },
     "execution_count": 44,
     "metadata": {},
     "output_type": "execute_result"
    }
   ],
   "source": [
    "from sklearn.model_selection import train_test_split, GridSearchCV\n",
    "\n",
    "param_grid = {\n",
    "    'n_estimators': [100, 200, 300],        # Number of trees\n",
    "    'max_depth': [None, 10, 20, 30],       # Maximum depth of each tree\n",
    "    'min_samples_split': [2, 5, 10],      # Minimum samples required to split a node\n",
    "    'min_samples_leaf': [1, 2, 4]         # Minimum samples required at each leaf node\n",
    "}\n",
    "grid_search = GridSearchCV(estimator=regressor, param_grid=param_grid, cv=5, scoring='neg_mean_squared_error')\n",
    "grid_search.fit(xtrain, ytrain)"
   ]
  },
  {
   "cell_type": "code",
   "execution_count": 45,
   "id": "2f59eaf3",
   "metadata": {},
   "outputs": [
    {
     "name": "stdout",
     "output_type": "stream",
     "text": [
      "Best Hyperparameters: {'max_depth': 10, 'min_samples_leaf': 4, 'min_samples_split': 10, 'n_estimators': 100}\n",
      "Mean Squared Error: 0.7810925200023665\n",
      "Root Mean Squared Error: 0.8837943878540792\n",
      "R-squared: 0.24745991405688794\n"
     ]
    }
   ],
   "source": [
    "best_params = grid_search.best_params_\n",
    "print(\"Best Hyperparameters:\", best_params)\n",
    "\n",
    "# Train the model with the best hyperparameters\n",
    "best_rf_regressor = grid_search.best_estimator_\n",
    "best_rf_regressor.fit(xtrain, ytrain)\n",
    "\n",
    "# Make predictions on the test set\n",
    "ypred = best_rf_regressor.predict(xtest)\n",
    "\n",
    "# Evaluate the model\n",
    "mse = mean_squared_error(ytest, ypred)\n",
    "rmse = np.sqrt(mse)\n",
    "r2 = r2_score(ytest, ypred)\n",
    "\n",
    "print(\"Mean Squared Error:\", mse)\n",
    "print(\"Root Mean Squared Error:\", rmse)\n",
    "print(\"R-squared:\", r2)"
   ]
  },
  {
   "cell_type": "markdown",
   "id": "6752b77a",
   "metadata": {},
   "source": [
    "# Phase 2"
   ]
  },
  {
   "cell_type": "markdown",
   "id": "be2915a7",
   "metadata": {},
   "source": [
    "# Neural Network"
   ]
  },
  {
   "cell_type": "code",
   "execution_count": 46,
   "id": "4786cf24",
   "metadata": {},
   "outputs": [],
   "source": [
    "import pandas as pd\n",
    "import numpy as np\n",
    "import tensorflow as tf\n",
    "from sklearn.model_selection import train_test_split\n",
    "from sklearn.preprocessing import StandardScaler\n",
    "from tensorflow import keras\n",
    "from tensorflow.keras import layers\n"
   ]
  },
  {
   "cell_type": "code",
   "execution_count": 47,
   "id": "052d6726",
   "metadata": {
    "scrolled": true
   },
   "outputs": [
    {
     "name": "stdout",
     "output_type": "stream",
     "text": [
      "Epoch 1/100\n",
      "12/12 [==============================] - 1s 22ms/step - loss: 33.7178 - mean_absolute_error: 5.6702 - val_loss: 27.5669 - val_mean_absolute_error: 5.0773\n",
      "Epoch 2/100\n",
      "12/12 [==============================] - 0s 5ms/step - loss: 21.1108 - mean_absolute_error: 4.2459 - val_loss: 17.9144 - val_mean_absolute_error: 3.9410\n",
      "Epoch 3/100\n",
      "12/12 [==============================] - 0s 5ms/step - loss: 13.3744 - mean_absolute_error: 3.2314 - val_loss: 10.7250 - val_mean_absolute_error: 2.9144\n",
      "Epoch 4/100\n",
      "12/12 [==============================] - 0s 5ms/step - loss: 9.2797 - mean_absolute_error: 2.6675 - val_loss: 6.5269 - val_mean_absolute_error: 2.2175\n",
      "Epoch 5/100\n",
      "12/12 [==============================] - 0s 5ms/step - loss: 6.2932 - mean_absolute_error: 2.1634 - val_loss: 4.8367 - val_mean_absolute_error: 1.9133\n",
      "Epoch 6/100\n",
      "12/12 [==============================] - 0s 5ms/step - loss: 3.8934 - mean_absolute_error: 1.6696 - val_loss: 4.1802 - val_mean_absolute_error: 1.7295\n",
      "Epoch 7/100\n",
      "12/12 [==============================] - 0s 5ms/step - loss: 2.3849 - mean_absolute_error: 1.2546 - val_loss: 3.6509 - val_mean_absolute_error: 1.4902\n",
      "Epoch 8/100\n",
      "12/12 [==============================] - 0s 5ms/step - loss: 1.4903 - mean_absolute_error: 0.9439 - val_loss: 3.5200 - val_mean_absolute_error: 1.3439\n",
      "Epoch 9/100\n",
      "12/12 [==============================] - 0s 5ms/step - loss: 1.0098 - mean_absolute_error: 0.7440 - val_loss: 3.7072 - val_mean_absolute_error: 1.3276\n",
      "Epoch 10/100\n",
      "12/12 [==============================] - 0s 5ms/step - loss: 0.7591 - mean_absolute_error: 0.6344 - val_loss: 3.7988 - val_mean_absolute_error: 1.3226\n",
      "Epoch 11/100\n",
      "12/12 [==============================] - 0s 5ms/step - loss: 0.6045 - mean_absolute_error: 0.5619 - val_loss: 3.7486 - val_mean_absolute_error: 1.3015\n",
      "Epoch 12/100\n",
      "12/12 [==============================] - 0s 5ms/step - loss: 0.5108 - mean_absolute_error: 0.5121 - val_loss: 3.7650 - val_mean_absolute_error: 1.2950\n",
      "Epoch 13/100\n",
      "12/12 [==============================] - 0s 5ms/step - loss: 0.4515 - mean_absolute_error: 0.4780 - val_loss: 3.8079 - val_mean_absolute_error: 1.2970\n",
      "Epoch 14/100\n",
      "12/12 [==============================] - 0s 5ms/step - loss: 0.4093 - mean_absolute_error: 0.4513 - val_loss: 3.7799 - val_mean_absolute_error: 1.2804\n",
      "Epoch 15/100\n",
      "12/12 [==============================] - 0s 6ms/step - loss: 0.3846 - mean_absolute_error: 0.4362 - val_loss: 3.7870 - val_mean_absolute_error: 1.2757\n",
      "Epoch 16/100\n",
      "12/12 [==============================] - 0s 6ms/step - loss: 0.3635 - mean_absolute_error: 0.4177 - val_loss: 3.8138 - val_mean_absolute_error: 1.2827\n",
      "Epoch 17/100\n",
      "12/12 [==============================] - 0s 5ms/step - loss: 0.3508 - mean_absolute_error: 0.4101 - val_loss: 3.8006 - val_mean_absolute_error: 1.2796\n",
      "Epoch 18/100\n",
      "12/12 [==============================] - 0s 5ms/step - loss: 0.3388 - mean_absolute_error: 0.4012 - val_loss: 3.7983 - val_mean_absolute_error: 1.2741\n",
      "Epoch 19/100\n",
      "12/12 [==============================] - 0s 5ms/step - loss: 0.3314 - mean_absolute_error: 0.3951 - val_loss: 3.8145 - val_mean_absolute_error: 1.2797\n",
      "Epoch 20/100\n",
      "12/12 [==============================] - 0s 5ms/step - loss: 0.3250 - mean_absolute_error: 0.3899 - val_loss: 3.8247 - val_mean_absolute_error: 1.2820\n",
      "Epoch 21/100\n",
      "12/12 [==============================] - 0s 5ms/step - loss: 0.3215 - mean_absolute_error: 0.3855 - val_loss: 3.8133 - val_mean_absolute_error: 1.2797\n",
      "Epoch 22/100\n",
      "12/12 [==============================] - 0s 5ms/step - loss: 0.3154 - mean_absolute_error: 0.3802 - val_loss: 3.8281 - val_mean_absolute_error: 1.2835\n",
      "Epoch 23/100\n",
      "12/12 [==============================] - 0s 5ms/step - loss: 0.3121 - mean_absolute_error: 0.3765 - val_loss: 3.8323 - val_mean_absolute_error: 1.2862\n",
      "Epoch 24/100\n",
      "12/12 [==============================] - 0s 5ms/step - loss: 0.3090 - mean_absolute_error: 0.3743 - val_loss: 3.8440 - val_mean_absolute_error: 1.2881\n",
      "Epoch 25/100\n",
      "12/12 [==============================] - 0s 5ms/step - loss: 0.3066 - mean_absolute_error: 0.3763 - val_loss: 3.8469 - val_mean_absolute_error: 1.2932\n",
      "Epoch 26/100\n",
      "12/12 [==============================] - 0s 5ms/step - loss: 0.3075 - mean_absolute_error: 0.3812 - val_loss: 3.8364 - val_mean_absolute_error: 1.2899\n",
      "Epoch 27/100\n",
      "12/12 [==============================] - 0s 5ms/step - loss: 0.3020 - mean_absolute_error: 0.3759 - val_loss: 3.8675 - val_mean_absolute_error: 1.2976\n",
      "Epoch 28/100\n",
      "12/12 [==============================] - 0s 5ms/step - loss: 0.2979 - mean_absolute_error: 0.3742 - val_loss: 3.8267 - val_mean_absolute_error: 1.2866\n",
      "Epoch 29/100\n",
      "12/12 [==============================] - 0s 6ms/step - loss: 0.2968 - mean_absolute_error: 0.3726 - val_loss: 3.8607 - val_mean_absolute_error: 1.2944\n",
      "Epoch 30/100\n",
      "12/12 [==============================] - 0s 5ms/step - loss: 0.2943 - mean_absolute_error: 0.3715 - val_loss: 3.8746 - val_mean_absolute_error: 1.2991\n",
      "Epoch 31/100\n",
      "12/12 [==============================] - 0s 5ms/step - loss: 0.2929 - mean_absolute_error: 0.3676 - val_loss: 3.8471 - val_mean_absolute_error: 1.2917\n",
      "Epoch 32/100\n",
      "12/12 [==============================] - 0s 5ms/step - loss: 0.2903 - mean_absolute_error: 0.3659 - val_loss: 3.8690 - val_mean_absolute_error: 1.2953\n",
      "Epoch 33/100\n",
      "12/12 [==============================] - 0s 5ms/step - loss: 0.2926 - mean_absolute_error: 0.3655 - val_loss: 3.8731 - val_mean_absolute_error: 1.2991\n",
      "Epoch 34/100\n",
      "12/12 [==============================] - 0s 5ms/step - loss: 0.2893 - mean_absolute_error: 0.3649 - val_loss: 3.8779 - val_mean_absolute_error: 1.3029\n",
      "Epoch 35/100\n",
      "12/12 [==============================] - 0s 5ms/step - loss: 0.2884 - mean_absolute_error: 0.3604 - val_loss: 3.8690 - val_mean_absolute_error: 1.2976\n",
      "Epoch 36/100\n",
      "12/12 [==============================] - 0s 5ms/step - loss: 0.2835 - mean_absolute_error: 0.3571 - val_loss: 3.8719 - val_mean_absolute_error: 1.2966\n",
      "Epoch 37/100\n",
      "12/12 [==============================] - 0s 5ms/step - loss: 0.2834 - mean_absolute_error: 0.3600 - val_loss: 3.8716 - val_mean_absolute_error: 1.2995\n",
      "Epoch 38/100\n",
      "12/12 [==============================] - 0s 5ms/step - loss: 0.2881 - mean_absolute_error: 0.3609 - val_loss: 3.8857 - val_mean_absolute_error: 1.3018\n",
      "Epoch 39/100\n",
      "12/12 [==============================] - 0s 5ms/step - loss: 0.2820 - mean_absolute_error: 0.3565 - val_loss: 3.8729 - val_mean_absolute_error: 1.3001\n",
      "Epoch 40/100\n",
      "12/12 [==============================] - 0s 5ms/step - loss: 0.2846 - mean_absolute_error: 0.3585 - val_loss: 3.9076 - val_mean_absolute_error: 1.3051\n",
      "Epoch 41/100\n",
      "12/12 [==============================] - 0s 5ms/step - loss: 0.2836 - mean_absolute_error: 0.3600 - val_loss: 3.9100 - val_mean_absolute_error: 1.3075\n",
      "Epoch 42/100\n",
      "12/12 [==============================] - 0s 5ms/step - loss: 0.2815 - mean_absolute_error: 0.3617 - val_loss: 3.8780 - val_mean_absolute_error: 1.3010\n",
      "Epoch 43/100\n",
      "12/12 [==============================] - 0s 5ms/step - loss: 0.2800 - mean_absolute_error: 0.3663 - val_loss: 3.8980 - val_mean_absolute_error: 1.3023\n",
      "Epoch 44/100\n",
      "12/12 [==============================] - 0s 5ms/step - loss: 0.2772 - mean_absolute_error: 0.3576 - val_loss: 3.9122 - val_mean_absolute_error: 1.3053\n",
      "Epoch 45/100\n",
      "12/12 [==============================] - 0s 5ms/step - loss: 0.2762 - mean_absolute_error: 0.3551 - val_loss: 3.9050 - val_mean_absolute_error: 1.3082\n",
      "Epoch 46/100\n",
      "12/12 [==============================] - 0s 5ms/step - loss: 0.2759 - mean_absolute_error: 0.3564 - val_loss: 3.9102 - val_mean_absolute_error: 1.3069\n",
      "Epoch 47/100\n",
      "12/12 [==============================] - 0s 5ms/step - loss: 0.2759 - mean_absolute_error: 0.3521 - val_loss: 3.9284 - val_mean_absolute_error: 1.3093\n",
      "Epoch 48/100\n",
      "12/12 [==============================] - 0s 5ms/step - loss: 0.2771 - mean_absolute_error: 0.3570 - val_loss: 3.9099 - val_mean_absolute_error: 1.3065\n",
      "Epoch 49/100\n",
      "12/12 [==============================] - 0s 5ms/step - loss: 0.2766 - mean_absolute_error: 0.3562 - val_loss: 3.9164 - val_mean_absolute_error: 1.3065\n",
      "Epoch 50/100\n",
      "12/12 [==============================] - 0s 5ms/step - loss: 0.2740 - mean_absolute_error: 0.3514 - val_loss: 3.9102 - val_mean_absolute_error: 1.3048\n"
     ]
    },
    {
     "name": "stdout",
     "output_type": "stream",
     "text": [
      "Epoch 51/100\n",
      "12/12 [==============================] - 0s 5ms/step - loss: 0.2775 - mean_absolute_error: 0.3598 - val_loss: 3.9283 - val_mean_absolute_error: 1.3094\n",
      "Epoch 52/100\n",
      "12/12 [==============================] - 0s 5ms/step - loss: 0.2722 - mean_absolute_error: 0.3570 - val_loss: 3.9375 - val_mean_absolute_error: 1.3122\n",
      "Epoch 53/100\n",
      "12/12 [==============================] - 0s 5ms/step - loss: 0.2717 - mean_absolute_error: 0.3497 - val_loss: 3.9309 - val_mean_absolute_error: 1.3109\n",
      "Epoch 54/100\n",
      "12/12 [==============================] - 0s 5ms/step - loss: 0.2746 - mean_absolute_error: 0.3526 - val_loss: 3.9500 - val_mean_absolute_error: 1.3150\n",
      "Epoch 55/100\n",
      "12/12 [==============================] - 0s 5ms/step - loss: 0.2716 - mean_absolute_error: 0.3561 - val_loss: 3.9341 - val_mean_absolute_error: 1.3122\n",
      "Epoch 56/100\n",
      "12/12 [==============================] - 0s 6ms/step - loss: 0.2692 - mean_absolute_error: 0.3504 - val_loss: 3.9306 - val_mean_absolute_error: 1.3108\n",
      "Epoch 57/100\n",
      "12/12 [==============================] - 0s 5ms/step - loss: 0.2716 - mean_absolute_error: 0.3535 - val_loss: 3.9501 - val_mean_absolute_error: 1.3140\n",
      "Epoch 58/100\n",
      "12/12 [==============================] - 0s 5ms/step - loss: 0.2686 - mean_absolute_error: 0.3484 - val_loss: 3.9166 - val_mean_absolute_error: 1.3053\n",
      "Epoch 59/100\n",
      "12/12 [==============================] - 0s 5ms/step - loss: 0.2725 - mean_absolute_error: 0.3533 - val_loss: 3.9711 - val_mean_absolute_error: 1.3183\n",
      "Epoch 60/100\n",
      "12/12 [==============================] - 0s 5ms/step - loss: 0.2702 - mean_absolute_error: 0.3517 - val_loss: 3.9317 - val_mean_absolute_error: 1.3083\n",
      "Epoch 61/100\n",
      "12/12 [==============================] - 0s 5ms/step - loss: 0.2697 - mean_absolute_error: 0.3525 - val_loss: 3.9496 - val_mean_absolute_error: 1.3120\n",
      "Epoch 62/100\n",
      "12/12 [==============================] - 0s 5ms/step - loss: 0.2710 - mean_absolute_error: 0.3525 - val_loss: 3.9498 - val_mean_absolute_error: 1.3130\n",
      "Epoch 63/100\n",
      "12/12 [==============================] - 0s 5ms/step - loss: 0.2733 - mean_absolute_error: 0.3646 - val_loss: 3.9297 - val_mean_absolute_error: 1.3100\n",
      "Epoch 64/100\n",
      "12/12 [==============================] - 0s 5ms/step - loss: 0.2704 - mean_absolute_error: 0.3612 - val_loss: 3.9876 - val_mean_absolute_error: 1.3178\n",
      "Epoch 65/100\n",
      "12/12 [==============================] - 0s 5ms/step - loss: 0.2691 - mean_absolute_error: 0.3596 - val_loss: 3.9698 - val_mean_absolute_error: 1.3180\n",
      "Epoch 66/100\n",
      "12/12 [==============================] - 0s 5ms/step - loss: 0.2713 - mean_absolute_error: 0.3616 - val_loss: 3.9950 - val_mean_absolute_error: 1.3219\n",
      "Epoch 67/100\n",
      "12/12 [==============================] - 0s 6ms/step - loss: 0.2681 - mean_absolute_error: 0.3655 - val_loss: 3.9465 - val_mean_absolute_error: 1.3135\n",
      "Epoch 68/100\n",
      "12/12 [==============================] - 0s 5ms/step - loss: 0.2704 - mean_absolute_error: 0.3595 - val_loss: 3.9779 - val_mean_absolute_error: 1.3185\n",
      "Epoch 69/100\n",
      "12/12 [==============================] - 0s 5ms/step - loss: 0.2653 - mean_absolute_error: 0.3501 - val_loss: 3.9435 - val_mean_absolute_error: 1.3096\n",
      "Epoch 70/100\n",
      "12/12 [==============================] - 0s 5ms/step - loss: 0.2663 - mean_absolute_error: 0.3468 - val_loss: 3.9805 - val_mean_absolute_error: 1.3184\n",
      "Epoch 71/100\n",
      "12/12 [==============================] - 0s 6ms/step - loss: 0.2644 - mean_absolute_error: 0.3435 - val_loss: 3.9625 - val_mean_absolute_error: 1.3115\n",
      "Epoch 72/100\n",
      "12/12 [==============================] - 0s 5ms/step - loss: 0.2661 - mean_absolute_error: 0.3463 - val_loss: 3.9886 - val_mean_absolute_error: 1.3197\n",
      "Epoch 73/100\n",
      "12/12 [==============================] - 0s 5ms/step - loss: 0.2663 - mean_absolute_error: 0.3526 - val_loss: 3.9649 - val_mean_absolute_error: 1.3158\n",
      "Epoch 74/100\n",
      "12/12 [==============================] - 0s 5ms/step - loss: 0.2668 - mean_absolute_error: 0.3557 - val_loss: 3.9611 - val_mean_absolute_error: 1.3156\n",
      "Epoch 75/100\n",
      "12/12 [==============================] - 0s 5ms/step - loss: 0.2663 - mean_absolute_error: 0.3485 - val_loss: 3.9713 - val_mean_absolute_error: 1.3126\n",
      "Epoch 76/100\n",
      "12/12 [==============================] - 0s 6ms/step - loss: 0.2644 - mean_absolute_error: 0.3449 - val_loss: 3.9879 - val_mean_absolute_error: 1.3152\n",
      "Epoch 77/100\n",
      "12/12 [==============================] - 0s 5ms/step - loss: 0.2619 - mean_absolute_error: 0.3438 - val_loss: 3.9924 - val_mean_absolute_error: 1.3192\n",
      "Epoch 78/100\n",
      "12/12 [==============================] - 0s 5ms/step - loss: 0.2633 - mean_absolute_error: 0.3474 - val_loss: 3.9684 - val_mean_absolute_error: 1.3116\n",
      "Epoch 79/100\n",
      "12/12 [==============================] - 0s 6ms/step - loss: 0.2644 - mean_absolute_error: 0.3502 - val_loss: 3.9944 - val_mean_absolute_error: 1.3197\n",
      "Epoch 80/100\n",
      "12/12 [==============================] - 0s 6ms/step - loss: 0.2599 - mean_absolute_error: 0.3424 - val_loss: 4.0515 - val_mean_absolute_error: 1.3342\n",
      "Epoch 81/100\n",
      "12/12 [==============================] - 0s 6ms/step - loss: 0.2619 - mean_absolute_error: 0.3488 - val_loss: 3.9933 - val_mean_absolute_error: 1.3183\n",
      "Epoch 82/100\n",
      "12/12 [==============================] - 0s 6ms/step - loss: 0.2654 - mean_absolute_error: 0.3561 - val_loss: 4.0282 - val_mean_absolute_error: 1.3240\n",
      "Epoch 83/100\n",
      "12/12 [==============================] - 0s 6ms/step - loss: 0.2642 - mean_absolute_error: 0.3553 - val_loss: 3.9891 - val_mean_absolute_error: 1.3155\n",
      "Epoch 84/100\n",
      "12/12 [==============================] - 0s 6ms/step - loss: 0.2579 - mean_absolute_error: 0.3463 - val_loss: 4.0134 - val_mean_absolute_error: 1.3227\n",
      "Epoch 85/100\n",
      "12/12 [==============================] - 0s 5ms/step - loss: 0.2632 - mean_absolute_error: 0.3495 - val_loss: 4.0365 - val_mean_absolute_error: 1.3259\n",
      "Epoch 86/100\n",
      "12/12 [==============================] - 0s 5ms/step - loss: 0.2639 - mean_absolute_error: 0.3531 - val_loss: 4.0368 - val_mean_absolute_error: 1.3244\n",
      "Epoch 87/100\n",
      "12/12 [==============================] - 0s 5ms/step - loss: 0.2605 - mean_absolute_error: 0.3559 - val_loss: 3.9975 - val_mean_absolute_error: 1.3193\n",
      "Epoch 88/100\n",
      "12/12 [==============================] - 0s 5ms/step - loss: 0.2652 - mean_absolute_error: 0.3556 - val_loss: 4.0561 - val_mean_absolute_error: 1.3310\n",
      "Epoch 89/100\n",
      "12/12 [==============================] - 0s 5ms/step - loss: 0.2624 - mean_absolute_error: 0.3505 - val_loss: 4.0391 - val_mean_absolute_error: 1.3248\n",
      "Epoch 90/100\n",
      "12/12 [==============================] - 0s 5ms/step - loss: 0.2580 - mean_absolute_error: 0.3404 - val_loss: 4.0414 - val_mean_absolute_error: 1.3307\n",
      "Epoch 91/100\n",
      "12/12 [==============================] - 0s 5ms/step - loss: 0.2623 - mean_absolute_error: 0.3441 - val_loss: 4.0540 - val_mean_absolute_error: 1.3295\n",
      "Epoch 92/100\n",
      "12/12 [==============================] - 0s 5ms/step - loss: 0.2612 - mean_absolute_error: 0.3463 - val_loss: 4.0366 - val_mean_absolute_error: 1.3234\n",
      "Epoch 93/100\n",
      "12/12 [==============================] - 0s 5ms/step - loss: 0.2569 - mean_absolute_error: 0.3428 - val_loss: 4.0516 - val_mean_absolute_error: 1.3239\n",
      "Epoch 94/100\n",
      "12/12 [==============================] - 0s 5ms/step - loss: 0.2586 - mean_absolute_error: 0.3409 - val_loss: 4.0577 - val_mean_absolute_error: 1.3233\n",
      "Epoch 95/100\n",
      "12/12 [==============================] - 0s 6ms/step - loss: 0.2613 - mean_absolute_error: 0.3453 - val_loss: 4.0357 - val_mean_absolute_error: 1.3247\n",
      "Epoch 96/100\n",
      "12/12 [==============================] - 0s 6ms/step - loss: 0.2570 - mean_absolute_error: 0.3454 - val_loss: 4.0363 - val_mean_absolute_error: 1.3258\n",
      "Epoch 97/100\n",
      "12/12 [==============================] - 0s 5ms/step - loss: 0.2585 - mean_absolute_error: 0.3449 - val_loss: 4.0836 - val_mean_absolute_error: 1.3282\n",
      "Epoch 98/100\n",
      "12/12 [==============================] - 0s 6ms/step - loss: 0.2587 - mean_absolute_error: 0.3451 - val_loss: 4.0668 - val_mean_absolute_error: 1.3274\n",
      "Epoch 99/100\n",
      "12/12 [==============================] - 0s 5ms/step - loss: 0.2598 - mean_absolute_error: 0.3513 - val_loss: 4.1183 - val_mean_absolute_error: 1.3386\n",
      "Epoch 100/100\n",
      "12/12 [==============================] - 0s 5ms/step - loss: 0.2599 - mean_absolute_error: 0.3584 - val_loss: 4.0387 - val_mean_absolute_error: 1.3231\n"
     ]
    },
    {
     "name": "stdout",
     "output_type": "stream",
     "text": [
      "4/4 [==============================] - 0s 3ms/step - loss: 1.4993 - mean_absolute_error: 0.8493\n",
      "Mean Absolute Error on Test Set: 0.8493456840515137\n",
      "4/4 [==============================] - 0s 2ms/step\n"
     ]
    }
   ],
   "source": [
    "x = df[['Genre', 'Runtime', 'Language']]\n",
    "y = df['IMDBScore']\n",
    "\n",
    "# Encode categorical variables (Genre and Language) using one-hot encoding\n",
    "x = pd.get_dummies(x, columns=['Genre', 'Language'], drop_first=True)\n",
    "\n",
    "# Split the dataset into training and testing sets\n",
    "x_train, x_test, y_train, y_test = train_test_split(x, y, test_size=0.2, random_state=42)\n",
    "\n",
    "# Standardize features (optional but can help neural networks converge faster)\n",
    "scaler = StandardScaler()\n",
    "x_train = scaler.fit_transform(x_train)\n",
    "x_test = scaler.transform(x_test)\n",
    "\n",
    "# Build the neural network model\n",
    "model = keras.Sequential([\n",
    "    layers.Dense(64, activation='relu', input_shape=(x_train.shape[1],)),\n",
    "    layers.Dense(32, activation='relu'),\n",
    "    layers.Dense(1)  # Output layer for regression\n",
    "])\n",
    "\n",
    "# Compile the model\n",
    "model.compile(optimizer='adam', loss='mean_squared_error', metrics=['mean_absolute_error'])\n",
    "\n",
    "# Train the model\n",
    "model.fit(x_train, y_train, epochs=100, batch_size=32, validation_split=0.2)\n",
    "\n",
    "# Evaluate the model on the test set\n",
    "loss, mae = model.evaluate(x_test, y_test)\n",
    "print(f\"Mean Absolute Error on Test Set: {mae}\")\n",
    "\n",
    "# Make predictions\n",
    "y_pred = model.predict(x_test)"
   ]
  },
  {
   "cell_type": "code",
   "execution_count": 48,
   "id": "17ef1f6a",
   "metadata": {
    "scrolled": true
   },
   "outputs": [
    {
     "data": {
      "text/plain": [
       "array([[ 6.2818255],\n",
       "       [ 5.2679644],\n",
       "       [ 5.641302 ],\n",
       "       [ 6.9683623],\n",
       "       [ 6.8716073],\n",
       "       [ 7.083333 ],\n",
       "       [ 5.999752 ],\n",
       "       [ 5.408844 ],\n",
       "       [ 4.39553  ],\n",
       "       [ 5.3776116],\n",
       "       [ 7.2823577],\n",
       "       [ 7.098594 ],\n",
       "       [ 7.243493 ],\n",
       "       [ 5.409077 ],\n",
       "       [ 6.7122855],\n",
       "       [ 5.411629 ],\n",
       "       [ 4.92908  ],\n",
       "       [ 5.458156 ],\n",
       "       [ 7.317314 ],\n",
       "       [ 5.533727 ],\n",
       "       [ 7.15049  ],\n",
       "       [ 6.20701  ],\n",
       "       [ 3.0575988],\n",
       "       [ 7.3292174],\n",
       "       [ 6.997059 ],\n",
       "       [ 3.5186899],\n",
       "       [ 6.106061 ],\n",
       "       [ 7.559936 ],\n",
       "       [ 4.300529 ],\n",
       "       [ 5.595874 ],\n",
       "       [ 5.82995  ],\n",
       "       [ 6.31595  ],\n",
       "       [ 5.439982 ],\n",
       "       [ 6.427665 ],\n",
       "       [ 4.816363 ],\n",
       "       [ 6.057382 ],\n",
       "       [ 7.2172384],\n",
       "       [ 7.15049  ],\n",
       "       [ 7.118663 ],\n",
       "       [ 7.246471 ],\n",
       "       [ 7.51643  ],\n",
       "       [ 6.385975 ],\n",
       "       [ 6.3476853],\n",
       "       [ 6.9683623],\n",
       "       [ 7.200603 ],\n",
       "       [ 7.1000857],\n",
       "       [ 5.7588544],\n",
       "       [ 5.1531825],\n",
       "       [ 8.182757 ],\n",
       "       [ 5.561417 ],\n",
       "       [ 5.4446764],\n",
       "       [ 6.329247 ],\n",
       "       [ 5.3817544],\n",
       "       [ 7.0557075],\n",
       "       [ 3.7167413],\n",
       "       [ 7.1084867],\n",
       "       [ 7.1168866],\n",
       "       [ 6.524436 ],\n",
       "       [ 6.5304646],\n",
       "       [ 6.543669 ],\n",
       "       [ 5.214807 ],\n",
       "       [ 5.251749 ],\n",
       "       [ 7.056886 ],\n",
       "       [ 6.4447494],\n",
       "       [ 5.4057574],\n",
       "       [ 5.609646 ],\n",
       "       [ 5.7746425],\n",
       "       [ 7.951609 ],\n",
       "       [ 5.8073072],\n",
       "       [ 4.8770494],\n",
       "       [ 5.4760575],\n",
       "       [ 5.4102874],\n",
       "       [ 5.4093084],\n",
       "       [ 6.441364 ],\n",
       "       [ 7.167292 ],\n",
       "       [ 7.072372 ],\n",
       "       [ 5.702403 ],\n",
       "       [ 5.438416 ],\n",
       "       [ 5.9742246],\n",
       "       [ 7.564045 ],\n",
       "       [ 4.7262015],\n",
       "       [ 6.6277275],\n",
       "       [ 5.5242066],\n",
       "       [ 6.6840215],\n",
       "       [ 6.9555073],\n",
       "       [ 6.1843886],\n",
       "       [ 7.200603 ],\n",
       "       [ 6.5266967],\n",
       "       [ 6.3619084],\n",
       "       [ 5.4738946],\n",
       "       [ 7.1000857],\n",
       "       [ 7.1168866],\n",
       "       [ 5.1454334],\n",
       "       [ 6.741052 ],\n",
       "       [ 5.3817544],\n",
       "       [ 5.475515 ],\n",
       "       [ 3.4730706],\n",
       "       [ 6.1514897],\n",
       "       [ 5.0159755],\n",
       "       [ 7.1828804],\n",
       "       [ 6.9683623],\n",
       "       [ 7.305411 ],\n",
       "       [ 6.0265336],\n",
       "       [ 5.9650483],\n",
       "       [ 6.5810895],\n",
       "       [ 6.7063365],\n",
       "       [ 6.5810895],\n",
       "       [ 5.022434 ],\n",
       "       [ 5.726404 ],\n",
       "       [ 7.722448 ],\n",
       "       [ 6.315674 ],\n",
       "       [ 4.2088327],\n",
       "       [-0.453581 ],\n",
       "       [ 7.04921  ],\n",
       "       [ 5.409773 ],\n",
       "       [ 6.2533455],\n",
       "       [ 5.5054355]], dtype=float32)"
      ]
     },
     "execution_count": 48,
     "metadata": {},
     "output_type": "execute_result"
    }
   ],
   "source": [
    "y_pred"
   ]
  },
  {
   "cell_type": "markdown",
   "id": "7c47f45a",
   "metadata": {},
   "source": [
    "# Gradient Boosting"
   ]
  },
  {
   "cell_type": "code",
   "execution_count": 49,
   "id": "5c07ccf7",
   "metadata": {},
   "outputs": [
    {
     "name": "stdout",
     "output_type": "stream",
     "text": [
      "Mean Absolute Error: 0.6737418660432508\n",
      "Mean Squared Error: 0.7646858702215756\n",
      "R-squared (R2): 0.2632668272200527\n"
     ]
    },
    {
     "name": "stderr",
     "output_type": "stream",
     "text": [
      "C:\\Users\\Shaun Alex\\AppData\\Local\\Temp\\ipykernel_9616\\1193338420.py:20: SettingWithCopyWarning: \n",
      "A value is trying to be set on a copy of a slice from a DataFrame.\n",
      "Try using .loc[row_indexer,col_indexer] = value instead\n",
      "\n",
      "See the caveats in the documentation: https://pandas.pydata.org/pandas-docs/stable/user_guide/indexing.html#returning-a-view-versus-a-copy\n",
      "  X[col] = label_encoders[col].fit_transform(X[col])\n"
     ]
    }
   ],
   "source": [
    "import pandas as pd\n",
    "import numpy as np\n",
    "from sklearn.model_selection import train_test_split\n",
    "from sklearn.ensemble import GradientBoostingRegressor\n",
    "from sklearn.metrics import mean_absolute_error, mean_squared_error, r2_score\n",
    "from sklearn.preprocessing import LabelEncoder, StandardScaler\n",
    "\n",
    "# Load the dataset\n",
    "# data = pd.read_csv(\"NetflixOriginals.csv\")\n",
    "\n",
    "# Preprocess the data\n",
    "# Assuming you want to use 'Genre', 'Runtime', and 'Language' as features\n",
    "X = df[['Genre', 'Runtime', 'Language']]\n",
    "y = df['IMDBScore']\n",
    "\n",
    "# Encode categorical variables (Genre and Language) using Label Encoding\n",
    "label_encoders = {}\n",
    "for col in ['Genre', 'Language']:\n",
    "    label_encoders[col] = LabelEncoder()\n",
    "    X[col] = label_encoders[col].fit_transform(X[col])\n",
    "\n",
    "# Split the dataset into training and testing sets\n",
    "X_train, X_test, y_train, y_test = train_test_split(X, y, test_size=0.2, random_state=42)\n",
    "\n",
    "# Standardize features (optional but can help gradient boosting)\n",
    "scaler = StandardScaler()\n",
    "X_train = scaler.fit_transform(X_train)\n",
    "X_test = scaler.transform(X_test)\n",
    "\n",
    "# Build and train the gradient boosting model\n",
    "regressor = GradientBoostingRegressor(n_estimators=100, learning_rate=0.1, max_depth=3, random_state=42)\n",
    "regressor.fit(X_train, y_train)\n",
    "\n",
    "# Make predictions\n",
    "y_pred = regressor.predict(X_test)\n",
    "\n",
    "# Evaluate the model\n",
    "mae = mean_absolute_error(y_test, y_pred)\n",
    "mse = mean_squared_error(y_test, y_pred)\n",
    "r2 = r2_score(y_test, y_pred)\n",
    "\n",
    "print(f\"Mean Absolute Error: {mae}\")\n",
    "print(f\"Mean Squared Error: {mse}\")\n",
    "print(f\"R-squared (R2): {r2}\")\n"
   ]
  },
  {
   "cell_type": "markdown",
   "id": "0ae780d4",
   "metadata": {},
   "source": [
    "# Phase 3"
   ]
  },
  {
   "cell_type": "markdown",
   "id": "136aef68",
   "metadata": {},
   "source": [
    "# Data Preprocessing"
   ]
  },
  {
   "cell_type": "code",
   "execution_count": 52,
   "id": "79803a43",
   "metadata": {},
   "outputs": [],
   "source": [
    "from sklearn.preprocessing import StandardScaler"
   ]
  },
  {
   "cell_type": "code",
   "execution_count": 60,
   "id": "6f9ac6cb",
   "metadata": {},
   "outputs": [
    {
     "data": {
      "text/html": [
       "<div>\n",
       "<style scoped>\n",
       "    .dataframe tbody tr th:only-of-type {\n",
       "        vertical-align: middle;\n",
       "    }\n",
       "\n",
       "    .dataframe tbody tr th {\n",
       "        vertical-align: top;\n",
       "    }\n",
       "\n",
       "    .dataframe thead th {\n",
       "        text-align: right;\n",
       "    }\n",
       "</style>\n",
       "<table border=\"1\" class=\"dataframe\">\n",
       "  <thead>\n",
       "    <tr style=\"text-align: right;\">\n",
       "      <th></th>\n",
       "      <th>Title</th>\n",
       "      <th>Genre</th>\n",
       "      <th>Runtime</th>\n",
       "      <th>IMDBScore</th>\n",
       "    </tr>\n",
       "  </thead>\n",
       "  <tbody>\n",
       "    <tr>\n",
       "      <th>0</th>\n",
       "      <td>147</td>\n",
       "      <td>45</td>\n",
       "      <td>58</td>\n",
       "      <td>2.5</td>\n",
       "    </tr>\n",
       "    <tr>\n",
       "      <th>1</th>\n",
       "      <td>120</td>\n",
       "      <td>106</td>\n",
       "      <td>81</td>\n",
       "      <td>2.6</td>\n",
       "    </tr>\n",
       "    <tr>\n",
       "      <th>2</th>\n",
       "      <td>433</td>\n",
       "      <td>93</td>\n",
       "      <td>79</td>\n",
       "      <td>2.6</td>\n",
       "    </tr>\n",
       "    <tr>\n",
       "      <th>3</th>\n",
       "      <td>500</td>\n",
       "      <td>63</td>\n",
       "      <td>94</td>\n",
       "      <td>3.2</td>\n",
       "    </tr>\n",
       "    <tr>\n",
       "      <th>4</th>\n",
       "      <td>243</td>\n",
       "      <td>73</td>\n",
       "      <td>90</td>\n",
       "      <td>3.4</td>\n",
       "    </tr>\n",
       "    <tr>\n",
       "      <th>...</th>\n",
       "      <td>...</td>\n",
       "      <td>...</td>\n",
       "      <td>...</td>\n",
       "      <td>...</td>\n",
       "    </tr>\n",
       "    <tr>\n",
       "      <th>579</th>\n",
       "      <td>425</td>\n",
       "      <td>40</td>\n",
       "      <td>125</td>\n",
       "      <td>8.4</td>\n",
       "    </tr>\n",
       "    <tr>\n",
       "      <th>580</th>\n",
       "      <td>575</td>\n",
       "      <td>45</td>\n",
       "      <td>91</td>\n",
       "      <td>8.4</td>\n",
       "    </tr>\n",
       "    <tr>\n",
       "      <th>581</th>\n",
       "      <td>410</td>\n",
       "      <td>74</td>\n",
       "      <td>153</td>\n",
       "      <td>8.5</td>\n",
       "    </tr>\n",
       "    <tr>\n",
       "      <th>582</th>\n",
       "      <td>145</td>\n",
       "      <td>45</td>\n",
       "      <td>89</td>\n",
       "      <td>8.6</td>\n",
       "    </tr>\n",
       "    <tr>\n",
       "      <th>583</th>\n",
       "      <td>121</td>\n",
       "      <td>45</td>\n",
       "      <td>83</td>\n",
       "      <td>9.0</td>\n",
       "    </tr>\n",
       "  </tbody>\n",
       "</table>\n",
       "<p>584 rows × 4 columns</p>\n",
       "</div>"
      ],
      "text/plain": [
       "     Title  Genre  Runtime  IMDBScore\n",
       "0      147     45       58        2.5\n",
       "1      120    106       81        2.6\n",
       "2      433     93       79        2.6\n",
       "3      500     63       94        3.2\n",
       "4      243     73       90        3.4\n",
       "..     ...    ...      ...        ...\n",
       "579    425     40      125        8.4\n",
       "580    575     45       91        8.4\n",
       "581    410     74      153        8.5\n",
       "582    145     45       89        8.6\n",
       "583    121     45       83        9.0\n",
       "\n",
       "[584 rows x 4 columns]"
      ]
     },
     "execution_count": 60,
     "metadata": {},
     "output_type": "execute_result"
    }
   ],
   "source": [
    "data = df2.join(y)\n",
    "data"
   ]
  },
  {
   "cell_type": "code",
   "execution_count": 61,
   "id": "1b4020a5",
   "metadata": {},
   "outputs": [
    {
     "data": {
      "text/plain": [
       "array([[-0.85712914, -0.30324457, -1.28261511, -3.85494543],\n",
       "       [-1.01728476,  2.00257926, -0.45342484, -3.75273959],\n",
       "       [ 0.83933407,  1.51117418, -0.52552834, -3.75273959],\n",
       "       ...,\n",
       "       [ 0.70290521,  0.79296676,  2.1423012 ,  2.27740523],\n",
       "       [-0.86899252, -0.30324457, -0.16501084,  2.37961107],\n",
       "       [-1.01135307, -0.30324457, -0.38132134,  2.78843445]])"
      ]
     },
     "execution_count": 61,
     "metadata": {},
     "output_type": "execute_result"
    }
   ],
   "source": [
    "scaler = StandardScaler()\n",
    "model = scaler.fit(data)\n",
    "scaled_data = model.transform(data)\n",
    "scaled_data"
   ]
  },
  {
   "cell_type": "code",
   "execution_count": 62,
   "id": "b75a7acf",
   "metadata": {},
   "outputs": [
    {
     "data": {
      "text/plain": [
       "Title        0\n",
       "Genre        0\n",
       "Runtime      0\n",
       "IMDBScore    0\n",
       "dtype: int64"
      ]
     },
     "execution_count": 62,
     "metadata": {},
     "output_type": "execute_result"
    }
   ],
   "source": [
    "data.isnull().sum()"
   ]
  },
  {
   "cell_type": "code",
   "execution_count": 63,
   "id": "601651f1",
   "metadata": {},
   "outputs": [
    {
     "data": {
      "text/html": [
       "<div>\n",
       "<style scoped>\n",
       "    .dataframe tbody tr th:only-of-type {\n",
       "        vertical-align: middle;\n",
       "    }\n",
       "\n",
       "    .dataframe tbody tr th {\n",
       "        vertical-align: top;\n",
       "    }\n",
       "\n",
       "    .dataframe thead th {\n",
       "        text-align: right;\n",
       "    }\n",
       "</style>\n",
       "<table border=\"1\" class=\"dataframe\">\n",
       "  <thead>\n",
       "    <tr style=\"text-align: right;\">\n",
       "      <th></th>\n",
       "      <th>Title</th>\n",
       "      <th>Genre</th>\n",
       "      <th>Runtime</th>\n",
       "      <th>IMDBScore</th>\n",
       "    </tr>\n",
       "  </thead>\n",
       "  <tbody>\n",
       "    <tr>\n",
       "      <th>0</th>\n",
       "      <td>147</td>\n",
       "      <td>45</td>\n",
       "      <td>58</td>\n",
       "      <td>2.5</td>\n",
       "    </tr>\n",
       "    <tr>\n",
       "      <th>1</th>\n",
       "      <td>120</td>\n",
       "      <td>106</td>\n",
       "      <td>81</td>\n",
       "      <td>2.6</td>\n",
       "    </tr>\n",
       "    <tr>\n",
       "      <th>2</th>\n",
       "      <td>433</td>\n",
       "      <td>93</td>\n",
       "      <td>79</td>\n",
       "      <td>2.6</td>\n",
       "    </tr>\n",
       "    <tr>\n",
       "      <th>3</th>\n",
       "      <td>500</td>\n",
       "      <td>63</td>\n",
       "      <td>94</td>\n",
       "      <td>3.2</td>\n",
       "    </tr>\n",
       "    <tr>\n",
       "      <th>4</th>\n",
       "      <td>243</td>\n",
       "      <td>73</td>\n",
       "      <td>90</td>\n",
       "      <td>3.4</td>\n",
       "    </tr>\n",
       "    <tr>\n",
       "      <th>...</th>\n",
       "      <td>...</td>\n",
       "      <td>...</td>\n",
       "      <td>...</td>\n",
       "      <td>...</td>\n",
       "    </tr>\n",
       "    <tr>\n",
       "      <th>579</th>\n",
       "      <td>425</td>\n",
       "      <td>40</td>\n",
       "      <td>125</td>\n",
       "      <td>8.4</td>\n",
       "    </tr>\n",
       "    <tr>\n",
       "      <th>580</th>\n",
       "      <td>575</td>\n",
       "      <td>45</td>\n",
       "      <td>91</td>\n",
       "      <td>8.4</td>\n",
       "    </tr>\n",
       "    <tr>\n",
       "      <th>581</th>\n",
       "      <td>410</td>\n",
       "      <td>74</td>\n",
       "      <td>153</td>\n",
       "      <td>8.5</td>\n",
       "    </tr>\n",
       "    <tr>\n",
       "      <th>582</th>\n",
       "      <td>145</td>\n",
       "      <td>45</td>\n",
       "      <td>89</td>\n",
       "      <td>8.6</td>\n",
       "    </tr>\n",
       "    <tr>\n",
       "      <th>583</th>\n",
       "      <td>121</td>\n",
       "      <td>45</td>\n",
       "      <td>83</td>\n",
       "      <td>9.0</td>\n",
       "    </tr>\n",
       "  </tbody>\n",
       "</table>\n",
       "<p>584 rows × 4 columns</p>\n",
       "</div>"
      ],
      "text/plain": [
       "     Title  Genre  Runtime  IMDBScore\n",
       "0      147     45       58        2.5\n",
       "1      120    106       81        2.6\n",
       "2      433     93       79        2.6\n",
       "3      500     63       94        3.2\n",
       "4      243     73       90        3.4\n",
       "..     ...    ...      ...        ...\n",
       "579    425     40      125        8.4\n",
       "580    575     45       91        8.4\n",
       "581    410     74      153        8.5\n",
       "582    145     45       89        8.6\n",
       "583    121     45       83        9.0\n",
       "\n",
       "[584 rows x 4 columns]"
      ]
     },
     "execution_count": 63,
     "metadata": {},
     "output_type": "execute_result"
    }
   ],
   "source": [
    "data.dropna()"
   ]
  },
  {
   "cell_type": "code",
   "execution_count": 65,
   "id": "6e7b6577",
   "metadata": {},
   "outputs": [
    {
     "data": {
      "text/html": [
       "<div>\n",
       "<style scoped>\n",
       "    .dataframe tbody tr th:only-of-type {\n",
       "        vertical-align: middle;\n",
       "    }\n",
       "\n",
       "    .dataframe tbody tr th {\n",
       "        vertical-align: top;\n",
       "    }\n",
       "\n",
       "    .dataframe thead th {\n",
       "        text-align: right;\n",
       "    }\n",
       "</style>\n",
       "<table border=\"1\" class=\"dataframe\">\n",
       "  <thead>\n",
       "    <tr style=\"text-align: right;\">\n",
       "      <th></th>\n",
       "      <th>Title</th>\n",
       "      <th>Genre</th>\n",
       "      <th>Runtime</th>\n",
       "      <th>IMDBScore</th>\n",
       "    </tr>\n",
       "  </thead>\n",
       "  <tbody>\n",
       "    <tr>\n",
       "      <th>583</th>\n",
       "      <td>121</td>\n",
       "      <td>45</td>\n",
       "      <td>83</td>\n",
       "      <td>9.0</td>\n",
       "    </tr>\n",
       "    <tr>\n",
       "      <th>582</th>\n",
       "      <td>145</td>\n",
       "      <td>45</td>\n",
       "      <td>89</td>\n",
       "      <td>8.6</td>\n",
       "    </tr>\n",
       "    <tr>\n",
       "      <th>581</th>\n",
       "      <td>410</td>\n",
       "      <td>74</td>\n",
       "      <td>153</td>\n",
       "      <td>8.5</td>\n",
       "    </tr>\n",
       "    <tr>\n",
       "      <th>580</th>\n",
       "      <td>575</td>\n",
       "      <td>45</td>\n",
       "      <td>91</td>\n",
       "      <td>8.4</td>\n",
       "    </tr>\n",
       "    <tr>\n",
       "      <th>579</th>\n",
       "      <td>425</td>\n",
       "      <td>40</td>\n",
       "      <td>125</td>\n",
       "      <td>8.4</td>\n",
       "    </tr>\n",
       "    <tr>\n",
       "      <th>...</th>\n",
       "      <td>...</td>\n",
       "      <td>...</td>\n",
       "      <td>...</td>\n",
       "      <td>...</td>\n",
       "    </tr>\n",
       "    <tr>\n",
       "      <th>4</th>\n",
       "      <td>243</td>\n",
       "      <td>73</td>\n",
       "      <td>90</td>\n",
       "      <td>3.4</td>\n",
       "    </tr>\n",
       "    <tr>\n",
       "      <th>3</th>\n",
       "      <td>500</td>\n",
       "      <td>63</td>\n",
       "      <td>94</td>\n",
       "      <td>3.2</td>\n",
       "    </tr>\n",
       "    <tr>\n",
       "      <th>2</th>\n",
       "      <td>433</td>\n",
       "      <td>93</td>\n",
       "      <td>79</td>\n",
       "      <td>2.6</td>\n",
       "    </tr>\n",
       "    <tr>\n",
       "      <th>1</th>\n",
       "      <td>120</td>\n",
       "      <td>106</td>\n",
       "      <td>81</td>\n",
       "      <td>2.6</td>\n",
       "    </tr>\n",
       "    <tr>\n",
       "      <th>0</th>\n",
       "      <td>147</td>\n",
       "      <td>45</td>\n",
       "      <td>58</td>\n",
       "      <td>2.5</td>\n",
       "    </tr>\n",
       "  </tbody>\n",
       "</table>\n",
       "<p>584 rows × 4 columns</p>\n",
       "</div>"
      ],
      "text/plain": [
       "     Title  Genre  Runtime  IMDBScore\n",
       "583    121     45       83        9.0\n",
       "582    145     45       89        8.6\n",
       "581    410     74      153        8.5\n",
       "580    575     45       91        8.4\n",
       "579    425     40      125        8.4\n",
       "..     ...    ...      ...        ...\n",
       "4      243     73       90        3.4\n",
       "3      500     63       94        3.2\n",
       "2      433     93       79        2.6\n",
       "1      120    106       81        2.6\n",
       "0      147     45       58        2.5\n",
       "\n",
       "[584 rows x 4 columns]"
      ]
     },
     "execution_count": 65,
     "metadata": {},
     "output_type": "execute_result"
    }
   ],
   "source": [
    "data.sort_values(by='IMDBScore', ascending = False)"
   ]
  },
  {
   "cell_type": "code",
   "execution_count": 66,
   "id": "f0847e70",
   "metadata": {},
   "outputs": [
    {
     "data": {
      "text/html": [
       "<div>\n",
       "<style scoped>\n",
       "    .dataframe tbody tr th:only-of-type {\n",
       "        vertical-align: middle;\n",
       "    }\n",
       "\n",
       "    .dataframe tbody tr th {\n",
       "        vertical-align: top;\n",
       "    }\n",
       "\n",
       "    .dataframe thead th {\n",
       "        text-align: right;\n",
       "    }\n",
       "</style>\n",
       "<table border=\"1\" class=\"dataframe\">\n",
       "  <thead>\n",
       "    <tr style=\"text-align: right;\">\n",
       "      <th></th>\n",
       "      <th>Title</th>\n",
       "      <th>Genre</th>\n",
       "      <th>Runtime</th>\n",
       "      <th>IMDBScore</th>\n",
       "    </tr>\n",
       "  </thead>\n",
       "  <tbody>\n",
       "    <tr>\n",
       "      <th>583</th>\n",
       "      <td>121</td>\n",
       "      <td>45</td>\n",
       "      <td>83</td>\n",
       "      <td>9.0</td>\n",
       "    </tr>\n",
       "    <tr>\n",
       "      <th>582</th>\n",
       "      <td>145</td>\n",
       "      <td>45</td>\n",
       "      <td>89</td>\n",
       "      <td>8.6</td>\n",
       "    </tr>\n",
       "    <tr>\n",
       "      <th>581</th>\n",
       "      <td>410</td>\n",
       "      <td>74</td>\n",
       "      <td>153</td>\n",
       "      <td>8.5</td>\n",
       "    </tr>\n",
       "    <tr>\n",
       "      <th>580</th>\n",
       "      <td>575</td>\n",
       "      <td>45</td>\n",
       "      <td>91</td>\n",
       "      <td>8.4</td>\n",
       "    </tr>\n",
       "    <tr>\n",
       "      <th>579</th>\n",
       "      <td>425</td>\n",
       "      <td>40</td>\n",
       "      <td>125</td>\n",
       "      <td>8.4</td>\n",
       "    </tr>\n",
       "  </tbody>\n",
       "</table>\n",
       "</div>"
      ],
      "text/plain": [
       "     Title  Genre  Runtime  IMDBScore\n",
       "583    121     45       83        9.0\n",
       "582    145     45       89        8.6\n",
       "581    410     74      153        8.5\n",
       "580    575     45       91        8.4\n",
       "579    425     40      125        8.4"
      ]
     },
     "execution_count": 66,
     "metadata": {},
     "output_type": "execute_result"
    }
   ],
   "source": [
    "data.sort_values(by='IMDBScore', ascending = False).head()"
   ]
  },
  {
   "cell_type": "code",
   "execution_count": 67,
   "id": "d087b266",
   "metadata": {},
   "outputs": [
    {
     "data": {
      "text/html": [
       "<div>\n",
       "<style scoped>\n",
       "    .dataframe tbody tr th:only-of-type {\n",
       "        vertical-align: middle;\n",
       "    }\n",
       "\n",
       "    .dataframe tbody tr th {\n",
       "        vertical-align: top;\n",
       "    }\n",
       "\n",
       "    .dataframe thead th {\n",
       "        text-align: right;\n",
       "    }\n",
       "</style>\n",
       "<table border=\"1\" class=\"dataframe\">\n",
       "  <thead>\n",
       "    <tr style=\"text-align: right;\">\n",
       "      <th></th>\n",
       "      <th>Title</th>\n",
       "      <th>Genre</th>\n",
       "      <th>Runtime</th>\n",
       "      <th>IMDBScore</th>\n",
       "    </tr>\n",
       "  </thead>\n",
       "  <tbody>\n",
       "    <tr>\n",
       "      <th>0</th>\n",
       "      <td>False</td>\n",
       "      <td>False</td>\n",
       "      <td>False</td>\n",
       "      <td>False</td>\n",
       "    </tr>\n",
       "    <tr>\n",
       "      <th>1</th>\n",
       "      <td>False</td>\n",
       "      <td>False</td>\n",
       "      <td>False</td>\n",
       "      <td>False</td>\n",
       "    </tr>\n",
       "    <tr>\n",
       "      <th>2</th>\n",
       "      <td>False</td>\n",
       "      <td>False</td>\n",
       "      <td>False</td>\n",
       "      <td>False</td>\n",
       "    </tr>\n",
       "    <tr>\n",
       "      <th>3</th>\n",
       "      <td>False</td>\n",
       "      <td>False</td>\n",
       "      <td>False</td>\n",
       "      <td>False</td>\n",
       "    </tr>\n",
       "    <tr>\n",
       "      <th>4</th>\n",
       "      <td>False</td>\n",
       "      <td>False</td>\n",
       "      <td>False</td>\n",
       "      <td>False</td>\n",
       "    </tr>\n",
       "    <tr>\n",
       "      <th>...</th>\n",
       "      <td>...</td>\n",
       "      <td>...</td>\n",
       "      <td>...</td>\n",
       "      <td>...</td>\n",
       "    </tr>\n",
       "    <tr>\n",
       "      <th>579</th>\n",
       "      <td>False</td>\n",
       "      <td>False</td>\n",
       "      <td>False</td>\n",
       "      <td>False</td>\n",
       "    </tr>\n",
       "    <tr>\n",
       "      <th>580</th>\n",
       "      <td>False</td>\n",
       "      <td>False</td>\n",
       "      <td>False</td>\n",
       "      <td>False</td>\n",
       "    </tr>\n",
       "    <tr>\n",
       "      <th>581</th>\n",
       "      <td>False</td>\n",
       "      <td>False</td>\n",
       "      <td>False</td>\n",
       "      <td>False</td>\n",
       "    </tr>\n",
       "    <tr>\n",
       "      <th>582</th>\n",
       "      <td>False</td>\n",
       "      <td>False</td>\n",
       "      <td>False</td>\n",
       "      <td>False</td>\n",
       "    </tr>\n",
       "    <tr>\n",
       "      <th>583</th>\n",
       "      <td>False</td>\n",
       "      <td>False</td>\n",
       "      <td>False</td>\n",
       "      <td>False</td>\n",
       "    </tr>\n",
       "  </tbody>\n",
       "</table>\n",
       "<p>584 rows × 4 columns</p>\n",
       "</div>"
      ],
      "text/plain": [
       "     Title  Genre  Runtime  IMDBScore\n",
       "0    False  False    False      False\n",
       "1    False  False    False      False\n",
       "2    False  False    False      False\n",
       "3    False  False    False      False\n",
       "4    False  False    False      False\n",
       "..     ...    ...      ...        ...\n",
       "579  False  False    False      False\n",
       "580  False  False    False      False\n",
       "581  False  False    False      False\n",
       "582  False  False    False      False\n",
       "583  False  False    False      False\n",
       "\n",
       "[584 rows x 4 columns]"
      ]
     },
     "execution_count": 67,
     "metadata": {},
     "output_type": "execute_result"
    }
   ],
   "source": [
    "data.isna()"
   ]
  },
  {
   "cell_type": "code",
   "execution_count": 69,
   "id": "a237582c",
   "metadata": {},
   "outputs": [],
   "source": [
    "from sklearn.preprocessing import MinMaxScaler"
   ]
  },
  {
   "cell_type": "code",
   "execution_count": 70,
   "id": "d78e9227",
   "metadata": {},
   "outputs": [
    {
     "data": {
      "text/plain": [
       "array([[-0.85712914, -0.30324457, -1.28261511, -3.85494543],\n",
       "       [-1.01728476,  2.00257926, -0.45342484, -3.75273959],\n",
       "       [ 0.83933407,  1.51117418, -0.52552834, -3.75273959],\n",
       "       ...,\n",
       "       [ 0.70290521,  0.79296676,  2.1423012 ,  2.27740523],\n",
       "       [-0.86899252, -0.30324457, -0.16501084,  2.37961107],\n",
       "       [-1.01135307, -0.30324457, -0.38132134,  2.78843445]])"
      ]
     },
     "execution_count": 70,
     "metadata": {},
     "output_type": "execute_result"
    }
   ],
   "source": [
    "scaler1 = MinMaxScaler()\n",
    "model1 = scaler1.fit(data)\n",
    "scaled_data1 = model.transform(data)\n",
    "scaled_data1"
   ]
  },
  {
   "cell_type": "markdown",
   "id": "ddee9443",
   "metadata": {},
   "source": [
    "# Univariate Analysis"
   ]
  },
  {
   "cell_type": "code",
   "execution_count": 72,
   "id": "68db21b7",
   "metadata": {},
   "outputs": [
    {
     "data": {
      "text/plain": [
       "0       58\n",
       "1       81\n",
       "2       79\n",
       "3       94\n",
       "4       90\n",
       "      ... \n",
       "579    125\n",
       "580     91\n",
       "581    153\n",
       "582     89\n",
       "583     83\n",
       "Name: Runtime, Length: 584, dtype: int64"
      ]
     },
     "execution_count": 72,
     "metadata": {},
     "output_type": "execute_result"
    }
   ],
   "source": [
    "column1 = df['Runtime']\n",
    "column1"
   ]
  },
  {
   "cell_type": "code",
   "execution_count": 73,
   "id": "81c90b9b",
   "metadata": {},
   "outputs": [
    {
     "data": {
      "text/plain": [
       "0    58\n",
       "1    81\n",
       "2    79\n",
       "3    94\n",
       "4    90\n",
       "Name: Runtime, dtype: int64"
      ]
     },
     "execution_count": 73,
     "metadata": {},
     "output_type": "execute_result"
    }
   ],
   "source": [
    "column1.head()"
   ]
  },
  {
   "cell_type": "code",
   "execution_count": 74,
   "id": "3d7ec3d1",
   "metadata": {},
   "outputs": [
    {
     "data": {
      "text/plain": [
       "0       58\n",
       "1       81\n",
       "2       79\n",
       "3       94\n",
       "4       90\n",
       "      ... \n",
       "579    125\n",
       "580     91\n",
       "581    153\n",
       "582     89\n",
       "583     83\n",
       "Name: Runtime, Length: 584, dtype: int64"
      ]
     },
     "execution_count": 74,
     "metadata": {},
     "output_type": "execute_result"
    }
   ],
   "source": [
    "column1.dropna()"
   ]
  },
  {
   "cell_type": "code",
   "execution_count": 77,
   "id": "9188ee56",
   "metadata": {},
   "outputs": [
    {
     "data": {
      "text/plain": [
       "0       58\n",
       "1       81\n",
       "2       79\n",
       "3       94\n",
       "4       90\n",
       "      ... \n",
       "579    125\n",
       "580     91\n",
       "581    153\n",
       "582     89\n",
       "583     83\n",
       "Name: Runtime, Length: 584, dtype: int64"
      ]
     },
     "execution_count": 77,
     "metadata": {},
     "output_type": "execute_result"
    }
   ],
   "source": [
    "column1.fillna('Nan')"
   ]
  },
  {
   "cell_type": "code",
   "execution_count": 78,
   "id": "b4f72834",
   "metadata": {},
   "outputs": [
    {
     "name": "stdout",
     "output_type": "stream",
     "text": [
      "<class 'pandas.core.series.Series'>\n",
      "RangeIndex: 584 entries, 0 to 583\n",
      "Series name: Runtime\n",
      "Non-Null Count  Dtype\n",
      "--------------  -----\n",
      "584 non-null    int64\n",
      "dtypes: int64(1)\n",
      "memory usage: 4.7 KB\n"
     ]
    }
   ],
   "source": [
    "column1.info()"
   ]
  },
  {
   "cell_type": "code",
   "execution_count": 79,
   "id": "7db66055",
   "metadata": {},
   "outputs": [
    {
     "data": {
      "text/plain": [
       "count    584.000000\n",
       "mean      93.577055\n",
       "std       27.761683\n",
       "min        4.000000\n",
       "25%       86.000000\n",
       "50%       97.000000\n",
       "75%      108.000000\n",
       "max      209.000000\n",
       "Name: Runtime, dtype: float64"
      ]
     },
     "execution_count": 79,
     "metadata": {},
     "output_type": "execute_result"
    }
   ],
   "source": [
    "column1.describe()"
   ]
  },
  {
   "cell_type": "code",
   "execution_count": 82,
   "id": "b7d90231",
   "metadata": {},
   "outputs": [
    {
     "data": {
      "text/plain": [
       "<AxesSubplot:>"
      ]
     },
     "execution_count": 82,
     "metadata": {},
     "output_type": "execute_result"
    },
    {
     "data": {
      "image/png": "[encoded data removed]",
      "text/plain": [
       "<Figure size 432x288 with 1 Axes>"
      ]
     },
     "metadata": {
      "needs_background": "light"
     },
     "output_type": "display_data"
    }
   ],
   "source": [
    "column11=column1.head(10)\n",
    "column11.plot.barh()"
   ]
  },
  {
   "cell_type": "markdown",
   "id": "242320f1",
   "metadata": {},
   "source": [
    "# Bivariate Analysis"
   ]
  },
  {
   "cell_type": "code",
   "execution_count": 86,
   "id": "93e1e3cb",
   "metadata": {},
   "outputs": [
    {
     "data": {
      "text/html": [
       "<div>\n",
       "<style scoped>\n",
       "    .dataframe tbody tr th:only-of-type {\n",
       "        vertical-align: middle;\n",
       "    }\n",
       "\n",
       "    .dataframe tbody tr th {\n",
       "        vertical-align: top;\n",
       "    }\n",
       "\n",
       "    .dataframe thead th {\n",
       "        text-align: right;\n",
       "    }\n",
       "</style>\n",
       "<table border=\"1\" class=\"dataframe\">\n",
       "  <thead>\n",
       "    <tr style=\"text-align: right;\">\n",
       "      <th></th>\n",
       "      <th>IMDBScore</th>\n",
       "    </tr>\n",
       "    <tr>\n",
       "      <th>Genre</th>\n",
       "      <th></th>\n",
       "    </tr>\n",
       "  </thead>\n",
       "  <tbody>\n",
       "    <tr>\n",
       "      <th>Action</th>\n",
       "      <td>5.414286</td>\n",
       "    </tr>\n",
       "    <tr>\n",
       "      <th>Action comedy</th>\n",
       "      <td>5.420000</td>\n",
       "    </tr>\n",
       "    <tr>\n",
       "      <th>Action thriller</th>\n",
       "      <td>6.400000</td>\n",
       "    </tr>\n",
       "    <tr>\n",
       "      <th>Action-adventure</th>\n",
       "      <td>7.300000</td>\n",
       "    </tr>\n",
       "    <tr>\n",
       "      <th>Action-thriller</th>\n",
       "      <td>6.133333</td>\n",
       "    </tr>\n",
       "    <tr>\n",
       "      <th>...</th>\n",
       "      <td>...</td>\n",
       "    </tr>\n",
       "    <tr>\n",
       "      <th>War</th>\n",
       "      <td>6.750000</td>\n",
       "    </tr>\n",
       "    <tr>\n",
       "      <th>War drama</th>\n",
       "      <td>7.100000</td>\n",
       "    </tr>\n",
       "    <tr>\n",
       "      <th>War-Comedy</th>\n",
       "      <td>6.000000</td>\n",
       "    </tr>\n",
       "    <tr>\n",
       "      <th>Western</th>\n",
       "      <td>6.066667</td>\n",
       "    </tr>\n",
       "    <tr>\n",
       "      <th>Zombie/Heist</th>\n",
       "      <td>5.900000</td>\n",
       "    </tr>\n",
       "  </tbody>\n",
       "</table>\n",
       "<p>115 rows × 1 columns</p>\n",
       "</div>"
      ],
      "text/plain": [
       "                  IMDBScore\n",
       "Genre                      \n",
       "Action             5.414286\n",
       "Action comedy      5.420000\n",
       "Action thriller    6.400000\n",
       "Action-adventure   7.300000\n",
       "Action-thriller    6.133333\n",
       "...                     ...\n",
       "War                6.750000\n",
       "War drama          7.100000\n",
       "War-Comedy         6.000000\n",
       "Western            6.066667\n",
       "Zombie/Heist       5.900000\n",
       "\n",
       "[115 rows x 1 columns]"
      ]
     },
     "execution_count": 86,
     "metadata": {},
     "output_type": "execute_result"
    }
   ],
   "source": [
    "df.groupby('Genre').agg({'IMDBScore':'mean'})"
   ]
  },
  {
   "cell_type": "code",
   "execution_count": 87,
   "id": "32d9b559",
   "metadata": {},
   "outputs": [
    {
     "data": {
      "text/html": [
       "<div>\n",
       "<style scoped>\n",
       "    .dataframe tbody tr th:only-of-type {\n",
       "        vertical-align: middle;\n",
       "    }\n",
       "\n",
       "    .dataframe tbody tr th {\n",
       "        vertical-align: top;\n",
       "    }\n",
       "\n",
       "    .dataframe thead th {\n",
       "        text-align: right;\n",
       "    }\n",
       "</style>\n",
       "<table border=\"1\" class=\"dataframe\">\n",
       "  <thead>\n",
       "    <tr style=\"text-align: right;\">\n",
       "      <th></th>\n",
       "      <th>IMDBScore</th>\n",
       "    </tr>\n",
       "    <tr>\n",
       "      <th>Runtime</th>\n",
       "      <th></th>\n",
       "    </tr>\n",
       "  </thead>\n",
       "  <tbody>\n",
       "    <tr>\n",
       "      <th>4</th>\n",
       "      <td>4.70</td>\n",
       "    </tr>\n",
       "    <tr>\n",
       "      <th>7</th>\n",
       "      <td>6.90</td>\n",
       "    </tr>\n",
       "    <tr>\n",
       "      <th>9</th>\n",
       "      <td>6.50</td>\n",
       "    </tr>\n",
       "    <tr>\n",
       "      <th>10</th>\n",
       "      <td>5.20</td>\n",
       "    </tr>\n",
       "    <tr>\n",
       "      <th>11</th>\n",
       "      <td>7.20</td>\n",
       "    </tr>\n",
       "    <tr>\n",
       "      <th>...</th>\n",
       "      <td>...</td>\n",
       "    </tr>\n",
       "    <tr>\n",
       "      <th>149</th>\n",
       "      <td>6.20</td>\n",
       "    </tr>\n",
       "    <tr>\n",
       "      <th>151</th>\n",
       "      <td>6.25</td>\n",
       "    </tr>\n",
       "    <tr>\n",
       "      <th>153</th>\n",
       "      <td>8.50</td>\n",
       "    </tr>\n",
       "    <tr>\n",
       "      <th>155</th>\n",
       "      <td>6.50</td>\n",
       "    </tr>\n",
       "    <tr>\n",
       "      <th>209</th>\n",
       "      <td>7.80</td>\n",
       "    </tr>\n",
       "  </tbody>\n",
       "</table>\n",
       "<p>124 rows × 1 columns</p>\n",
       "</div>"
      ],
      "text/plain": [
       "         IMDBScore\n",
       "Runtime           \n",
       "4             4.70\n",
       "7             6.90\n",
       "9             6.50\n",
       "10            5.20\n",
       "11            7.20\n",
       "...            ...\n",
       "149           6.20\n",
       "151           6.25\n",
       "153           8.50\n",
       "155           6.50\n",
       "209           7.80\n",
       "\n",
       "[124 rows x 1 columns]"
      ]
     },
     "execution_count": 87,
     "metadata": {},
     "output_type": "execute_result"
    }
   ],
   "source": [
    "df.groupby('Runtime').agg({'IMDBScore':'mean'})"
   ]
  },
  {
   "cell_type": "code",
   "execution_count": 88,
   "id": "76519c76",
   "metadata": {},
   "outputs": [
    {
     "data": {
      "text/html": [
       "<div>\n",
       "<style scoped>\n",
       "    .dataframe tbody tr th:only-of-type {\n",
       "        vertical-align: middle;\n",
       "    }\n",
       "\n",
       "    .dataframe tbody tr th {\n",
       "        vertical-align: top;\n",
       "    }\n",
       "\n",
       "    .dataframe thead th {\n",
       "        text-align: right;\n",
       "    }\n",
       "</style>\n",
       "<table border=\"1\" class=\"dataframe\">\n",
       "  <thead>\n",
       "    <tr style=\"text-align: right;\">\n",
       "      <th></th>\n",
       "      <th>IMDBScore</th>\n",
       "    </tr>\n",
       "    <tr>\n",
       "      <th>Premiere</th>\n",
       "      <th></th>\n",
       "    </tr>\n",
       "  </thead>\n",
       "  <tbody>\n",
       "    <tr>\n",
       "      <th>April 1, 2021</th>\n",
       "      <td>6.10</td>\n",
       "    </tr>\n",
       "    <tr>\n",
       "      <th>April 10, 2020</th>\n",
       "      <td>6.00</td>\n",
       "    </tr>\n",
       "    <tr>\n",
       "      <th>April 12, 2019</th>\n",
       "      <td>5.55</td>\n",
       "    </tr>\n",
       "    <tr>\n",
       "      <th>April 13, 2018</th>\n",
       "      <td>6.15</td>\n",
       "    </tr>\n",
       "    <tr>\n",
       "      <th>April 14, 2017</th>\n",
       "      <td>5.20</td>\n",
       "    </tr>\n",
       "    <tr>\n",
       "      <th>...</th>\n",
       "      <td>...</td>\n",
       "    </tr>\n",
       "    <tr>\n",
       "      <th>September 4, 2020</th>\n",
       "      <td>6.60</td>\n",
       "    </tr>\n",
       "    <tr>\n",
       "      <th>September 7, 2018</th>\n",
       "      <td>6.20</td>\n",
       "    </tr>\n",
       "    <tr>\n",
       "      <th>September 7, 2020</th>\n",
       "      <td>8.10</td>\n",
       "    </tr>\n",
       "    <tr>\n",
       "      <th>September 8, 2017</th>\n",
       "      <td>5.20</td>\n",
       "    </tr>\n",
       "    <tr>\n",
       "      <th>September 9, 2020</th>\n",
       "      <td>7.60</td>\n",
       "    </tr>\n",
       "  </tbody>\n",
       "</table>\n",
       "<p>390 rows × 1 columns</p>\n",
       "</div>"
      ],
      "text/plain": [
       "                   IMDBScore\n",
       "Premiere                    \n",
       "April 1, 2021           6.10\n",
       "April 10, 2020          6.00\n",
       "April 12, 2019          5.55\n",
       "April 13, 2018          6.15\n",
       "April 14, 2017          5.20\n",
       "...                      ...\n",
       "September 4, 2020       6.60\n",
       "September 7, 2018       6.20\n",
       "September 7, 2020       8.10\n",
       "September 8, 2017       5.20\n",
       "September 9, 2020       7.60\n",
       "\n",
       "[390 rows x 1 columns]"
      ]
     },
     "execution_count": 88,
     "metadata": {},
     "output_type": "execute_result"
    }
   ],
   "source": [
    "df.groupby('Premiere').agg({'IMDBScore':'mean'})"
   ]
  },
  {
   "cell_type": "code",
   "execution_count": 89,
   "id": "2e31b32d",
   "metadata": {},
   "outputs": [
    {
     "data": {
      "text/html": [
       "<div>\n",
       "<style scoped>\n",
       "    .dataframe tbody tr th:only-of-type {\n",
       "        vertical-align: middle;\n",
       "    }\n",
       "\n",
       "    .dataframe tbody tr th {\n",
       "        vertical-align: top;\n",
       "    }\n",
       "\n",
       "    .dataframe thead th {\n",
       "        text-align: right;\n",
       "    }\n",
       "</style>\n",
       "<table border=\"1\" class=\"dataframe\">\n",
       "  <thead>\n",
       "    <tr style=\"text-align: right;\">\n",
       "      <th></th>\n",
       "      <th>IMDBScore</th>\n",
       "    </tr>\n",
       "    <tr>\n",
       "      <th>Title</th>\n",
       "      <th></th>\n",
       "    </tr>\n",
       "  </thead>\n",
       "  <tbody>\n",
       "    <tr>\n",
       "      <th>#REALITYHIGH</th>\n",
       "      <td>5.2</td>\n",
       "    </tr>\n",
       "    <tr>\n",
       "      <th>13th</th>\n",
       "      <td>8.2</td>\n",
       "    </tr>\n",
       "    <tr>\n",
       "      <th>13th: A Conversation with Oprah Winfrey &amp; Ava DuVernay</th>\n",
       "      <td>7.1</td>\n",
       "    </tr>\n",
       "    <tr>\n",
       "      <th>15 August</th>\n",
       "      <td>5.8</td>\n",
       "    </tr>\n",
       "    <tr>\n",
       "      <th>1922</th>\n",
       "      <td>6.3</td>\n",
       "    </tr>\n",
       "    <tr>\n",
       "      <th>...</th>\n",
       "      <td>...</td>\n",
       "    </tr>\n",
       "    <tr>\n",
       "      <th>Yes Day</th>\n",
       "      <td>5.7</td>\n",
       "    </tr>\n",
       "    <tr>\n",
       "      <th>You've Got This</th>\n",
       "      <td>5.8</td>\n",
       "    </tr>\n",
       "    <tr>\n",
       "      <th>Zion</th>\n",
       "      <td>7.2</td>\n",
       "    </tr>\n",
       "    <tr>\n",
       "      <th>iBoy</th>\n",
       "      <td>6.0</td>\n",
       "    </tr>\n",
       "    <tr>\n",
       "      <th>Òlòt?ré</th>\n",
       "      <td>5.5</td>\n",
       "    </tr>\n",
       "  </tbody>\n",
       "</table>\n",
       "<p>584 rows × 1 columns</p>\n",
       "</div>"
      ],
      "text/plain": [
       "                                                    IMDBScore\n",
       "Title                                                        \n",
       "#REALITYHIGH                                              5.2\n",
       "13th                                                      8.2\n",
       "13th: A Conversation with Oprah Winfrey & Ava D...        7.1\n",
       "15 August                                                 5.8\n",
       "1922                                                      6.3\n",
       "...                                                       ...\n",
       "Yes Day                                                   5.7\n",
       "You've Got This                                           5.8\n",
       "Zion                                                      7.2\n",
       "iBoy                                                      6.0\n",
       "Òlòt?ré                                                   5.5\n",
       "\n",
       "[584 rows x 1 columns]"
      ]
     },
     "execution_count": 89,
     "metadata": {},
     "output_type": "execute_result"
    }
   ],
   "source": [
    "df.groupby('Title').agg({'IMDBScore':'mean'})"
   ]
  },
  {
   "cell_type": "code",
   "execution_count": 90,
   "id": "8967581e",
   "metadata": {},
   "outputs": [
    {
     "data": {
      "text/html": [
       "<div>\n",
       "<style scoped>\n",
       "    .dataframe tbody tr th:only-of-type {\n",
       "        vertical-align: middle;\n",
       "    }\n",
       "\n",
       "    .dataframe tbody tr th {\n",
       "        vertical-align: top;\n",
       "    }\n",
       "\n",
       "    .dataframe thead th {\n",
       "        text-align: right;\n",
       "    }\n",
       "</style>\n",
       "<table border=\"1\" class=\"dataframe\">\n",
       "  <thead>\n",
       "    <tr style=\"text-align: right;\">\n",
       "      <th></th>\n",
       "      <th>IMDBScore</th>\n",
       "    </tr>\n",
       "    <tr>\n",
       "      <th>Language</th>\n",
       "      <th></th>\n",
       "    </tr>\n",
       "  </thead>\n",
       "  <tbody>\n",
       "    <tr>\n",
       "      <th>Bengali</th>\n",
       "      <td>7.100000</td>\n",
       "    </tr>\n",
       "    <tr>\n",
       "      <th>Dutch</th>\n",
       "      <td>5.800000</td>\n",
       "    </tr>\n",
       "    <tr>\n",
       "      <th>English</th>\n",
       "      <td>6.380050</td>\n",
       "    </tr>\n",
       "    <tr>\n",
       "      <th>English/Akan</th>\n",
       "      <td>7.700000</td>\n",
       "    </tr>\n",
       "    <tr>\n",
       "      <th>English/Arabic</th>\n",
       "      <td>7.300000</td>\n",
       "    </tr>\n",
       "    <tr>\n",
       "      <th>English/Hindi</th>\n",
       "      <td>7.300000</td>\n",
       "    </tr>\n",
       "    <tr>\n",
       "      <th>English/Japanese</th>\n",
       "      <td>4.400000</td>\n",
       "    </tr>\n",
       "    <tr>\n",
       "      <th>English/Korean</th>\n",
       "      <td>7.300000</td>\n",
       "    </tr>\n",
       "    <tr>\n",
       "      <th>English/Mandarin</th>\n",
       "      <td>7.050000</td>\n",
       "    </tr>\n",
       "    <tr>\n",
       "      <th>English/Russian</th>\n",
       "      <td>7.300000</td>\n",
       "    </tr>\n",
       "    <tr>\n",
       "      <th>English/Spanish</th>\n",
       "      <td>6.220000</td>\n",
       "    </tr>\n",
       "    <tr>\n",
       "      <th>English/Swedish</th>\n",
       "      <td>6.500000</td>\n",
       "    </tr>\n",
       "    <tr>\n",
       "      <th>English/Taiwanese/Mandarin</th>\n",
       "      <td>6.500000</td>\n",
       "    </tr>\n",
       "    <tr>\n",
       "      <th>English/Ukranian/Russian</th>\n",
       "      <td>8.400000</td>\n",
       "    </tr>\n",
       "    <tr>\n",
       "      <th>Filipino</th>\n",
       "      <td>5.100000</td>\n",
       "    </tr>\n",
       "    <tr>\n",
       "      <th>French</th>\n",
       "      <td>5.770000</td>\n",
       "    </tr>\n",
       "    <tr>\n",
       "      <th>Georgian</th>\n",
       "      <td>6.800000</td>\n",
       "    </tr>\n",
       "    <tr>\n",
       "      <th>German</th>\n",
       "      <td>5.640000</td>\n",
       "    </tr>\n",
       "    <tr>\n",
       "      <th>Hindi</th>\n",
       "      <td>5.981818</td>\n",
       "    </tr>\n",
       "    <tr>\n",
       "      <th>Indonesian</th>\n",
       "      <td>5.844444</td>\n",
       "    </tr>\n",
       "    <tr>\n",
       "      <th>Italian</th>\n",
       "      <td>5.542857</td>\n",
       "    </tr>\n",
       "    <tr>\n",
       "      <th>Japanese</th>\n",
       "      <td>6.400000</td>\n",
       "    </tr>\n",
       "    <tr>\n",
       "      <th>Khmer/English/French</th>\n",
       "      <td>7.200000</td>\n",
       "    </tr>\n",
       "    <tr>\n",
       "      <th>Korean</th>\n",
       "      <td>5.916667</td>\n",
       "    </tr>\n",
       "    <tr>\n",
       "      <th>Malay</th>\n",
       "      <td>4.200000</td>\n",
       "    </tr>\n",
       "    <tr>\n",
       "      <th>Marathi</th>\n",
       "      <td>6.066667</td>\n",
       "    </tr>\n",
       "    <tr>\n",
       "      <th>Norwegian</th>\n",
       "      <td>5.100000</td>\n",
       "    </tr>\n",
       "    <tr>\n",
       "      <th>Polish</th>\n",
       "      <td>5.166667</td>\n",
       "    </tr>\n",
       "    <tr>\n",
       "      <th>Portuguese</th>\n",
       "      <td>6.216667</td>\n",
       "    </tr>\n",
       "    <tr>\n",
       "      <th>Spanish</th>\n",
       "      <td>6.303226</td>\n",
       "    </tr>\n",
       "    <tr>\n",
       "      <th>Spanish/Basque</th>\n",
       "      <td>5.600000</td>\n",
       "    </tr>\n",
       "    <tr>\n",
       "      <th>Spanish/Catalan</th>\n",
       "      <td>6.400000</td>\n",
       "    </tr>\n",
       "    <tr>\n",
       "      <th>Spanish/English</th>\n",
       "      <td>7.300000</td>\n",
       "    </tr>\n",
       "    <tr>\n",
       "      <th>Swedish</th>\n",
       "      <td>5.500000</td>\n",
       "    </tr>\n",
       "    <tr>\n",
       "      <th>Tamil</th>\n",
       "      <td>7.200000</td>\n",
       "    </tr>\n",
       "    <tr>\n",
       "      <th>Thai</th>\n",
       "      <td>5.450000</td>\n",
       "    </tr>\n",
       "    <tr>\n",
       "      <th>Thia/English</th>\n",
       "      <td>6.700000</td>\n",
       "    </tr>\n",
       "    <tr>\n",
       "      <th>Turkish</th>\n",
       "      <td>5.660000</td>\n",
       "    </tr>\n",
       "  </tbody>\n",
       "</table>\n",
       "</div>"
      ],
      "text/plain": [
       "                            IMDBScore\n",
       "Language                             \n",
       "Bengali                      7.100000\n",
       "Dutch                        5.800000\n",
       "English                      6.380050\n",
       "English/Akan                 7.700000\n",
       "English/Arabic               7.300000\n",
       "English/Hindi                7.300000\n",
       "English/Japanese             4.400000\n",
       "English/Korean               7.300000\n",
       "English/Mandarin             7.050000\n",
       "English/Russian              7.300000\n",
       "English/Spanish              6.220000\n",
       "English/Swedish              6.500000\n",
       "English/Taiwanese/Mandarin   6.500000\n",
       "English/Ukranian/Russian     8.400000\n",
       "Filipino                     5.100000\n",
       "French                       5.770000\n",
       "Georgian                     6.800000\n",
       "German                       5.640000\n",
       "Hindi                        5.981818\n",
       "Indonesian                   5.844444\n",
       "Italian                      5.542857\n",
       "Japanese                     6.400000\n",
       "Khmer/English/French         7.200000\n",
       "Korean                       5.916667\n",
       "Malay                        4.200000\n",
       "Marathi                      6.066667\n",
       "Norwegian                    5.100000\n",
       "Polish                       5.166667\n",
       "Portuguese                   6.216667\n",
       "Spanish                      6.303226\n",
       "Spanish/Basque               5.600000\n",
       "Spanish/Catalan              6.400000\n",
       "Spanish/English              7.300000\n",
       "Swedish                      5.500000\n",
       "Tamil                        7.200000\n",
       "Thai                         5.450000\n",
       "Thia/English                 6.700000\n",
       "Turkish                      5.660000"
      ]
     },
     "execution_count": 90,
     "metadata": {},
     "output_type": "execute_result"
    }
   ],
   "source": [
    "df.groupby('Language').agg({'IMDBScore':'mean'})"
   ]
  }
 ],
 "metadata": {
  "kernelspec": {
   "display_name": "Python 3 (ipykernel)",
   "language": "python",
   "name": "python3"
  },
  "language_info": {
   "codemirror_mode": {
    "name": "ipython",
    "version": 3
   },
   "file_extension": ".py",
   "mimetype": "text/x-python",
   "name": "python",
   "nbconvert_exporter": "python",
   "pygments_lexer": "ipython3",
   "version": "3.9.12"
  }
 },
 "nbformat": 4,
 "nbformat_minor": 5
}
